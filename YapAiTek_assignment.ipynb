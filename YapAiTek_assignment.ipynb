{
  "nbformat": 4,
  "nbformat_minor": 0,
  "metadata": {
    "colab": {
      "name": "YapAiTek assignment.ipynb",
      "provenance": [],
      "collapsed_sections": [],
      "authorship_tag": "ABX9TyPjW1PJakvGnxUUXxSebtq0",
      "include_colab_link": true
    },
    "kernelspec": {
      "name": "python3",
      "display_name": "Python 3"
    },
    "accelerator": "TPU"
  },
  "cells": [
    {
      "cell_type": "markdown",
      "metadata": {
        "id": "view-in-github",
        "colab_type": "text"
      },
      "source": [
        "<a href=\"https://colab.research.google.com/github/MohammadAliAfsahi/YapAiTek-assignment/blob/master/YapAiTek_assignment.ipynb\" target=\"_parent\"><img src=\"https://colab.research.google.com/assets/colab-badge.svg\" alt=\"Open In Colab\"/></a>"
      ]
    },
    {
      "cell_type": "code",
      "metadata": {
        "id": "XDOait8F_Ues",
        "colab_type": "code",
        "outputId": "6b53e2f5-acd1-4e2b-af88-3e42fbd92bba",
        "colab": {
          "base_uri": "https://localhost:8080/",
          "height": 129
        }
      },
      "source": [
        "from google.colab import drive\n",
        "drive.mount('/content/drive')"
      ],
      "execution_count": 0,
      "outputs": [
        {
          "output_type": "stream",
          "text": [
            "Go to this URL in a browser: https://accounts.google.com/o/oauth2/auth?client_id=947318989803-6bn6qk8qdgf4n4g3pfee6491hc0brc4i.apps.googleusercontent.com&redirect_uri=urn%3aietf%3awg%3aoauth%3a2.0%3aoob&response_type=code&scope=email%20https%3a%2f%2fwww.googleapis.com%2fauth%2fdocs.test%20https%3a%2f%2fwww.googleapis.com%2fauth%2fdrive%20https%3a%2f%2fwww.googleapis.com%2fauth%2fdrive.photos.readonly%20https%3a%2f%2fwww.googleapis.com%2fauth%2fpeopleapi.readonly\n",
            "\n",
            "Enter your authorization code:\n",
            "··········\n",
            "Mounted at /content/drive\n"
          ],
          "name": "stdout"
        }
      ]
    },
    {
      "cell_type": "code",
      "metadata": {
        "id": "1D9Nto4gAVpN",
        "colab_type": "code",
        "colab": {}
      },
      "source": [
        "#importing modules\n",
        "import pandas as pd\n",
        "import numpy as np\n",
        "from sklearn import preprocessing\n",
        "from sklearn.model_selection import train_test_split\n",
        "from sklearn.svm import LinearSVR\n",
        "from sklearn.neural_network import MLPRegressor\n",
        "from sklearn.pipeline import make_pipeline"
      ],
      "execution_count": 0,
      "outputs": []
    },
    {
      "cell_type": "code",
      "metadata": {
        "id": "jHPxWdLqA3c2",
        "colab_type": "code",
        "colab": {}
      },
      "source": [
        "data = pd.read_csv('/content/drive/My Drive/Colab Notebooks/YapAiTek assignment/data.csv')\n",
        "test = pd.read_csv('/content/drive/My Drive/Colab Notebooks/YapAiTek assignment/test.csv')"
      ],
      "execution_count": 0,
      "outputs": []
    },
    {
      "cell_type": "code",
      "metadata": {
        "id": "gVdsD9-xBbem",
        "colab_type": "code",
        "outputId": "ab2c0adf-4cc6-48c4-a4db-3ba77c0190ae",
        "colab": {
          "base_uri": "https://localhost:8080/",
          "height": 504
        }
      },
      "source": [
        "data.head()"
      ],
      "execution_count": 0,
      "outputs": [
        {
          "output_type": "execute_result",
          "data": {
            "text/html": [
              "<div>\n",
              "<style scoped>\n",
              "    .dataframe tbody tr th:only-of-type {\n",
              "        vertical-align: middle;\n",
              "    }\n",
              "\n",
              "    .dataframe tbody tr th {\n",
              "        vertical-align: top;\n",
              "    }\n",
              "\n",
              "    .dataframe thead th {\n",
              "        text-align: right;\n",
              "    }\n",
              "</style>\n",
              "<table border=\"1\" class=\"dataframe\">\n",
              "  <thead>\n",
              "    <tr style=\"text-align: right;\">\n",
              "      <th></th>\n",
              "      <th>Unnamed: 0</th>\n",
              "      <th>Episode</th>\n",
              "      <th>Station</th>\n",
              "      <th>Channel Type</th>\n",
              "      <th>Season</th>\n",
              "      <th>Year</th>\n",
              "      <th>Date</th>\n",
              "      <th>Day of week</th>\n",
              "      <th>Start_time</th>\n",
              "      <th>End_time</th>\n",
              "      <th>Length</th>\n",
              "      <th>Name of show</th>\n",
              "      <th>Name of episode</th>\n",
              "      <th>Genre</th>\n",
              "      <th>First time or rerun</th>\n",
              "      <th># of episode in the season</th>\n",
              "      <th>Movie?</th>\n",
              "      <th>Game of the Canadiens during episode?</th>\n",
              "      <th>Market Share_total</th>\n",
              "      <th>Temperature in Montreal during episode</th>\n",
              "    </tr>\n",
              "  </thead>\n",
              "  <tbody>\n",
              "    <tr>\n",
              "      <th>0</th>\n",
              "      <td>1</td>\n",
              "      <td>Vidéoclips V</td>\n",
              "      <td>V Total</td>\n",
              "      <td>General Channel</td>\n",
              "      <td>Fall</td>\n",
              "      <td>2016</td>\n",
              "      <td>2016-08-29</td>\n",
              "      <td>Monday</td>\n",
              "      <td>2016-08-29 06:00:00</td>\n",
              "      <td>2016-08-29 08:00:00</td>\n",
              "      <td>8</td>\n",
              "      <td>Vidéoclips V</td>\n",
              "      <td>NaN</td>\n",
              "      <td>Music Video Clips</td>\n",
              "      <td>No</td>\n",
              "      <td>Yes</td>\n",
              "      <td>No</td>\n",
              "      <td>No</td>\n",
              "      <td>0.9</td>\n",
              "      <td>20.400</td>\n",
              "    </tr>\n",
              "    <tr>\n",
              "      <th>1</th>\n",
              "      <td>2</td>\n",
              "      <td>Apollo dans l'frigo</td>\n",
              "      <td>V Total</td>\n",
              "      <td>General Channel</td>\n",
              "      <td>Fall</td>\n",
              "      <td>2016</td>\n",
              "      <td>2016-08-29</td>\n",
              "      <td>Monday</td>\n",
              "      <td>2016-08-29 08:00:00</td>\n",
              "      <td>2016-08-29 08:30:00</td>\n",
              "      <td>2</td>\n",
              "      <td>Apollo dans l'frigo</td>\n",
              "      <td>NaN</td>\n",
              "      <td>Informal Education and Recreation and Leisure</td>\n",
              "      <td>No</td>\n",
              "      <td>Yes</td>\n",
              "      <td>No</td>\n",
              "      <td>No</td>\n",
              "      <td>0.5</td>\n",
              "      <td>19.125</td>\n",
              "    </tr>\n",
              "    <tr>\n",
              "      <th>2</th>\n",
              "      <td>3</td>\n",
              "      <td>Infopublicité</td>\n",
              "      <td>V Total</td>\n",
              "      <td>General Channel</td>\n",
              "      <td>Fall</td>\n",
              "      <td>2016</td>\n",
              "      <td>2016-08-29</td>\n",
              "      <td>Monday</td>\n",
              "      <td>2016-08-29 08:30:00</td>\n",
              "      <td>2016-08-29 09:00:00</td>\n",
              "      <td>2</td>\n",
              "      <td>Infopublicité</td>\n",
              "      <td>NaN</td>\n",
              "      <td>Infomercials, Promotional and Corporate Videos</td>\n",
              "      <td>No</td>\n",
              "      <td>Yes</td>\n",
              "      <td>No</td>\n",
              "      <td>No</td>\n",
              "      <td>0.3</td>\n",
              "      <td>19.125</td>\n",
              "    </tr>\n",
              "    <tr>\n",
              "      <th>3</th>\n",
              "      <td>4</td>\n",
              "      <td>Infos, Les</td>\n",
              "      <td>V Total</td>\n",
              "      <td>General Channel</td>\n",
              "      <td>Fall</td>\n",
              "      <td>2016</td>\n",
              "      <td>2016-08-29</td>\n",
              "      <td>Monday</td>\n",
              "      <td>2016-08-29 09:00:00</td>\n",
              "      <td>2016-08-29 10:00:00</td>\n",
              "      <td>4</td>\n",
              "      <td>Infos, Les</td>\n",
              "      <td>NaN</td>\n",
              "      <td>News</td>\n",
              "      <td>No</td>\n",
              "      <td>Yes</td>\n",
              "      <td>No</td>\n",
              "      <td>No</td>\n",
              "      <td>1.7</td>\n",
              "      <td>18.125</td>\n",
              "    </tr>\n",
              "    <tr>\n",
              "      <th>4</th>\n",
              "      <td>5</td>\n",
              "      <td>Souper presque parfait, Un</td>\n",
              "      <td>V Total</td>\n",
              "      <td>General Channel</td>\n",
              "      <td>Fall</td>\n",
              "      <td>2016</td>\n",
              "      <td>2016-08-29</td>\n",
              "      <td>Monday</td>\n",
              "      <td>2016-08-29 10:00:00</td>\n",
              "      <td>2016-08-29 10:30:00</td>\n",
              "      <td>2</td>\n",
              "      <td>Souper presque parfait, Un</td>\n",
              "      <td>NaN</td>\n",
              "      <td>Reality Programs</td>\n",
              "      <td>No</td>\n",
              "      <td>Yes</td>\n",
              "      <td>No</td>\n",
              "      <td>No</td>\n",
              "      <td>2.2</td>\n",
              "      <td>18.250</td>\n",
              "    </tr>\n",
              "  </tbody>\n",
              "</table>\n",
              "</div>"
            ],
            "text/plain": [
              "   Unnamed: 0  ... Temperature in Montreal during episode\n",
              "0           1  ...                                 20.400\n",
              "1           2  ...                                 19.125\n",
              "2           3  ...                                 19.125\n",
              "3           4  ...                                 18.125\n",
              "4           5  ...                                 18.250\n",
              "\n",
              "[5 rows x 20 columns]"
            ]
          },
          "metadata": {
            "tags": []
          },
          "execution_count": 6
        }
      ]
    },
    {
      "cell_type": "code",
      "metadata": {
        "id": "1zoSGWsekaOm",
        "colab_type": "code",
        "outputId": "425b6d3f-22ee-479f-9715-def106a0da53",
        "colab": {
          "base_uri": "https://localhost:8080/",
          "height": 476
        }
      },
      "source": [
        "data.info()"
      ],
      "execution_count": 0,
      "outputs": [
        {
          "output_type": "stream",
          "text": [
            "<class 'pandas.core.frame.DataFrame'>\n",
            "RangeIndex: 616656 entries, 0 to 616655\n",
            "Data columns (total 20 columns):\n",
            "Unnamed: 0                                616656 non-null int64\n",
            "Episode                                   616656 non-null object\n",
            "Station                                   616656 non-null object\n",
            "Channel Type                              616656 non-null object\n",
            "Season                                    616656 non-null object\n",
            "Year                                      616656 non-null int64\n",
            "Date                                      616656 non-null object\n",
            "Day of week                               616656 non-null object\n",
            "Start_time                                616613 non-null object\n",
            "End_time                                  616613 non-null object\n",
            "Length                                    616656 non-null int64\n",
            "Name of show                              616656 non-null object\n",
            "Name of episode                           394077 non-null object\n",
            "Genre                                     616656 non-null object\n",
            "First time or rerun                       616656 non-null object\n",
            "# of episode in the season                616656 non-null object\n",
            "Movie?                                    616656 non-null object\n",
            "Game of the Canadiens during episode?     616656 non-null object\n",
            "Market Share_total                        616656 non-null float64\n",
            "Temperature in Montreal during episode    533312 non-null float64\n",
            "dtypes: float64(2), int64(3), object(15)\n",
            "memory usage: 94.1+ MB\n"
          ],
          "name": "stdout"
        }
      ]
    },
    {
      "cell_type": "code",
      "metadata": {
        "id": "Ys38DmxG2Ur3",
        "colab_type": "code",
        "outputId": "0182d589-c9e2-4dad-de38-93aa12f7d532",
        "colab": {
          "base_uri": "https://localhost:8080/",
          "height": 403
        }
      },
      "source": [
        "data.isna().sum()"
      ],
      "execution_count": 0,
      "outputs": [
        {
          "output_type": "execute_result",
          "data": {
            "text/plain": [
              "Unnamed: 0                                     0\n",
              "Episode                                        0\n",
              "Station                                        0\n",
              "Channel Type                                   0\n",
              "Season                                         0\n",
              "Year                                           0\n",
              "Date                                           0\n",
              "Day of week                                    0\n",
              "Start_time                                    43\n",
              "End_time                                      43\n",
              "Length                                         0\n",
              "Name of show                                   0\n",
              "Name of episode                           222579\n",
              "Genre                                          0\n",
              "First time or rerun                            0\n",
              "# of episode in the season                     0\n",
              "Movie?                                         0\n",
              "Game of the Canadiens during episode?          0\n",
              "Market Share_total                             0\n",
              "Temperature in Montreal during episode     83344\n",
              "dtype: int64"
            ]
          },
          "metadata": {
            "tags": []
          },
          "execution_count": 41
        }
      ]
    },
    {
      "cell_type": "code",
      "metadata": {
        "id": "bDmrqqfbj7QN",
        "colab_type": "code",
        "outputId": "6098f7ce-2440-4947-ed8b-c42b3348f468",
        "colab": {
          "base_uri": "https://localhost:8080/",
          "height": 182
        }
      },
      "source": [
        "data['Market Share_total'].describe()"
      ],
      "execution_count": 0,
      "outputs": [
        {
          "output_type": "execute_result",
          "data": {
            "text/plain": [
              "count    616656.000000\n",
              "mean          3.011562\n",
              "std           4.919562\n",
              "min           0.000000\n",
              "25%           0.400000\n",
              "50%           1.400000\n",
              "75%           3.400000\n",
              "max          89.500000\n",
              "Name: Market Share_total, dtype: float64"
            ]
          },
          "metadata": {
            "tags": []
          },
          "execution_count": 8
        }
      ]
    },
    {
      "cell_type": "code",
      "metadata": {
        "id": "MWZj5d3Fmbjt",
        "colab_type": "code",
        "outputId": "92192d3d-0ab4-407e-d296-e95e722bcf7a",
        "colab": {
          "base_uri": "https://localhost:8080/",
          "height": 476
        }
      },
      "source": [
        "data['Station'].value_counts()"
      ],
      "execution_count": 0,
      "outputs": [
        {
          "output_type": "execute_result",
          "data": {
            "text/plain": [
              "Teletoon Fr.+                          50750\n",
              "Unis TV+                               46318\n",
              "TQ Total                               44150\n",
              "RDI+                                   40490\n",
              "SRC Total                              37582\n",
              "TV5+                                   29974\n",
              "Z+                                     29715\n",
              "Historia+                              29267\n",
              "MusiquePlus+ (retired Aug 25, 2019)    27555\n",
              "Canal Vie+                             27528\n",
              "Canal D+                               26075\n",
              "MAX+                                   24418\n",
              "ARTV+                                  24298\n",
              "VRAK+                                  23903\n",
              "Evasion+                               23508\n",
              "TVA Total                              21834\n",
              "Series++                               21575\n",
              "V Total                                21289\n",
              "RDS2+                                  19075\n",
              "LCN+                                   17536\n",
              "RDS+                                   17468\n",
              "Meteomedia+                            10524\n",
              "PYC Online Stream Fr CBC-8+              912\n",
              "PYC Online Stream Fr CBC-9+              912\n",
              "Name: Station, dtype: int64"
            ]
          },
          "metadata": {
            "tags": []
          },
          "execution_count": 9
        }
      ]
    },
    {
      "cell_type": "code",
      "metadata": {
        "id": "-1dlaKkTmh7O",
        "colab_type": "code",
        "outputId": "65e2226f-2c73-4fb3-8bb7-3fa1242bd65f",
        "colab": {
          "base_uri": "https://localhost:8080/",
          "height": 72
        }
      },
      "source": [
        "data['Channel Type'].value_counts()"
      ],
      "execution_count": 0,
      "outputs": [
        {
          "output_type": "execute_result",
          "data": {
            "text/plain": [
              "Specialty Channel    535951\n",
              "General Channel       80705\n",
              "Name: Channel Type, dtype: int64"
            ]
          },
          "metadata": {
            "tags": []
          },
          "execution_count": 10
        }
      ]
    },
    {
      "cell_type": "code",
      "metadata": {
        "id": "dIq4befGmu_U",
        "colab_type": "code",
        "outputId": "b6cb2047-1f5a-45f2-8ae9-dd56edb75374",
        "colab": {
          "base_uri": "https://localhost:8080/",
          "height": 109
        }
      },
      "source": [
        "data['Season'].value_counts()"
      ],
      "execution_count": 0,
      "outputs": [
        {
          "output_type": "execute_result",
          "data": {
            "text/plain": [
              "Fall      234291\n",
              "Winter    195257\n",
              "Summer    127457\n",
              "Spring     59651\n",
              "Name: Season, dtype: int64"
            ]
          },
          "metadata": {
            "tags": []
          },
          "execution_count": 11
        }
      ]
    },
    {
      "cell_type": "code",
      "metadata": {
        "id": "XPB1r8xZk24L",
        "colab_type": "code",
        "outputId": "0b336654-203b-4f3f-92ff-527ece6b276a",
        "colab": {
          "base_uri": "https://localhost:8080/",
          "height": 109
        }
      },
      "source": [
        "data['Year'].value_counts()"
      ],
      "execution_count": 0,
      "outputs": [
        {
          "output_type": "execute_result",
          "data": {
            "text/plain": [
              "2018    260132\n",
              "2017    255214\n",
              "2016     75849\n",
              "2019     25461\n",
              "Name: Year, dtype: int64"
            ]
          },
          "metadata": {
            "tags": []
          },
          "execution_count": 12
        }
      ]
    },
    {
      "cell_type": "code",
      "metadata": {
        "id": "gWMLOIQBmVTA",
        "colab_type": "code",
        "outputId": "d6f6de46-38b7-40de-b366-92c00954cea2",
        "colab": {
          "base_uri": "https://localhost:8080/",
          "height": 164
        }
      },
      "source": [
        "data['Day of week'].value_counts()"
      ],
      "execution_count": 0,
      "outputs": [
        {
          "output_type": "execute_result",
          "data": {
            "text/plain": [
              "Wednesday    89748\n",
              "Tuesday      89058\n",
              "Friday       88795\n",
              "Monday       88597\n",
              "Thursday     88507\n",
              "Saturday     86604\n",
              "Sunday       85347\n",
              "Name: Day of week, dtype: int64"
            ]
          },
          "metadata": {
            "tags": []
          },
          "execution_count": 13
        }
      ]
    },
    {
      "cell_type": "code",
      "metadata": {
        "id": "qQrFw5Fom8N5",
        "colab_type": "code",
        "outputId": "7517ec9f-6a20-43d9-d5ba-541bc438569a",
        "colab": {
          "base_uri": "https://localhost:8080/",
          "height": 752
        }
      },
      "source": [
        "data['Length'].value_counts()"
      ],
      "execution_count": 0,
      "outputs": [
        {
          "output_type": "execute_result",
          "data": {
            "text/plain": [
              "2     266631\n",
              "4     170233\n",
              "0      60086\n",
              "1      55190\n",
              "3      14709\n",
              "8      13347\n",
              "6       8766\n",
              "12      4043\n",
              "7       3542\n",
              "28      3534\n",
              "10      3160\n",
              "16      2852\n",
              "5       2251\n",
              "84      1752\n",
              "9       1557\n",
              "14      1522\n",
              "24       937\n",
              "11       778\n",
              "15       691\n",
              "13       516\n",
              "18       219\n",
              "20       118\n",
              "26        46\n",
              "17        41\n",
              "22        40\n",
              "19        26\n",
              "21        26\n",
              "23        16\n",
              "30         7\n",
              "25         3\n",
              "32         3\n",
              "36         3\n",
              "27         2\n",
              "34         2\n",
              "40         2\n",
              "80         2\n",
              "38         1\n",
              "39         1\n",
              "92         1\n",
              "Name: Length, dtype: int64"
            ]
          },
          "metadata": {
            "tags": []
          },
          "execution_count": 14
        }
      ]
    },
    {
      "cell_type": "code",
      "metadata": {
        "id": "cg_TY0SsnN1f",
        "colab_type": "code",
        "outputId": "786faab0-51fc-4051-892a-c441f9304432",
        "colab": {
          "base_uri": "https://localhost:8080/",
          "height": 531
        }
      },
      "source": [
        "data['Genre'].value_counts()"
      ],
      "execution_count": 0,
      "outputs": [
        {
          "output_type": "execute_result",
          "data": {
            "text/plain": [
              "Animated Television Programs & Films                          88880\n",
              "Ongoing Dramatic Series                                       79219\n",
              "Reality Programs                                              72861\n",
              "News                                                          71121\n",
              "Long-form Documentary                                         50520\n",
              "Informal Education and Recreation and Leisure                 44804\n",
              "General Entertainment and Human Interest                      37275\n",
              "Professional Sports                                           30871\n",
              "Theatre Feature Films Aired on TV                             20682\n",
              "Interstitial                                                  20000\n",
              "Analysis and Interpretation                                   18353\n",
              "Ongoing Comedy Series (Sitcoms)                               14366\n",
              "Game Shows                                                    11809\n",
              "Music Video Programs                                          11227\n",
              "Infomercials, Promotional and Corporate Videos                 5949\n",
              "Reporting and Actualities                                      5630\n",
              "Music and Dance other than Music Video Programs or Clips       5517\n",
              "Formal Education and Pre-School                                5157\n",
              "Specials, Mini-Series or Made-for-TV Feature Films             5089\n",
              "Programs of Comedy Sketches, Improvision, Unscripted Works     4286\n",
              "Amateur Sports                                                 4258\n",
              "Other Drama                                                    3099\n",
              "Variety                                                        3096\n",
              "Religion                                                       1747\n",
              "Filler                                                          548\n",
              "Music Video Clips                                               156\n",
              "Unknown                                                         136\n",
              "Name: Genre, dtype: int64"
            ]
          },
          "metadata": {
            "tags": []
          },
          "execution_count": 15
        }
      ]
    },
    {
      "cell_type": "code",
      "metadata": {
        "id": "vNTEJdqTa-96",
        "colab_type": "code",
        "outputId": "0dac04f6-a273-446a-e63e-f29b0933cbb9",
        "colab": {
          "base_uri": "https://localhost:8080/",
          "height": 72
        }
      },
      "source": [
        "data['# of episode in the season'].value_counts()"
      ],
      "execution_count": 0,
      "outputs": [
        {
          "output_type": "execute_result",
          "data": {
            "text/plain": [
              "Yes    606002\n",
              "No      10654\n",
              "Name: # of episode in the season, dtype: int64"
            ]
          },
          "metadata": {
            "tags": []
          },
          "execution_count": 19
        }
      ]
    },
    {
      "cell_type": "code",
      "metadata": {
        "id": "W6Nt5rGbnUMg",
        "colab_type": "code",
        "outputId": "31a29c68-f69a-4234-8ec8-1610c5cd3e84",
        "colab": {
          "base_uri": "https://localhost:8080/",
          "height": 182
        }
      },
      "source": [
        "# No Idea how it can help... \n",
        "data['Temperature in Montreal during episode'].describe()"
      ],
      "execution_count": 0,
      "outputs": [
        {
          "output_type": "execute_result",
          "data": {
            "text/plain": [
              "count    533312.000000\n",
              "mean          6.707428\n",
              "std          12.178492\n",
              "min         -27.425000\n",
              "25%          -1.562500\n",
              "50%           6.450000\n",
              "75%          17.050000\n",
              "max          34.950000\n",
              "Name: Temperature in Montreal during episode, dtype: float64"
            ]
          },
          "metadata": {
            "tags": []
          },
          "execution_count": 17
        }
      ]
    },
    {
      "cell_type": "code",
      "metadata": {
        "id": "9pkBJL9ooc62",
        "colab_type": "code",
        "outputId": "945c786b-c028-4f94-cbdc-5f7258b82df9",
        "colab": {
          "base_uri": "https://localhost:8080/",
          "height": 146
        }
      },
      "source": [
        "data.columns"
      ],
      "execution_count": 0,
      "outputs": [
        {
          "output_type": "execute_result",
          "data": {
            "text/plain": [
              "Index(['Unnamed: 0', 'Episode', 'Station', 'Channel Type', 'Season', 'Year',\n",
              "       'Date', 'Day of week', 'Start_time', 'End_time', 'Length',\n",
              "       'Name of show', 'Name of episode', 'Genre', 'First time or rerun',\n",
              "       '# of episode in the season', 'Movie?',\n",
              "       'Game of the Canadiens during episode?', 'Market Share_total',\n",
              "       'Temperature in Montreal during episode'],\n",
              "      dtype='object')"
            ]
          },
          "metadata": {
            "tags": []
          },
          "execution_count": 18
        }
      ]
    },
    {
      "cell_type": "code",
      "metadata": {
        "id": "p3EtJrWnoEag",
        "colab_type": "code",
        "colab": {}
      },
      "source": [
        "# first feature engineering\n",
        "columns = ['Station', 'Channel Type', 'Season', 'Day of week', 'Length','Genre', 'First time or rerun',\n",
        "       '# of episode in the season', 'Movie?',\n",
        "       'Game of the Canadiens during episode?', 'Market Share_total']"
      ],
      "execution_count": 0,
      "outputs": []
    },
    {
      "cell_type": "code",
      "metadata": {
        "id": "v4AQq-eEiLQa",
        "colab_type": "code",
        "outputId": "123acb89-336f-4c2c-e03d-9fe9239930c9",
        "colab": {
          "base_uri": "https://localhost:8080/",
          "height": 219
        }
      },
      "source": [
        "for i, element in enumerate(columns):\n",
        "  print (i, element)"
      ],
      "execution_count": 0,
      "outputs": [
        {
          "output_type": "stream",
          "text": [
            "0 Station\n",
            "1 Channel Type\n",
            "2 Season\n",
            "3 Day of week\n",
            "4 Length\n",
            "5 Genre\n",
            "6 First time or rerun\n",
            "7 # of episode in the season\n",
            "8 Movie?\n",
            "9 Game of the Canadiens during episode?\n",
            "10 Market Share_total\n"
          ],
          "name": "stdout"
        }
      ]
    },
    {
      "cell_type": "code",
      "metadata": {
        "id": "IRRrE3bkjOUj",
        "colab_type": "code",
        "outputId": "04ce02cc-45f6-4118-83ce-79824f9991e6",
        "colab": {
          "base_uri": "https://localhost:8080/",
          "height": 35
        }
      },
      "source": [
        "data.shape"
      ],
      "execution_count": 0,
      "outputs": [
        {
          "output_type": "execute_result",
          "data": {
            "text/plain": [
              "(616656, 20)"
            ]
          },
          "metadata": {
            "tags": []
          },
          "execution_count": 70
        }
      ]
    },
    {
      "cell_type": "code",
      "metadata": {
        "id": "fDr2QJS-b4_7",
        "colab_type": "code",
        "outputId": "88ec6113-319c-4fd9-c254-01b5774fb996",
        "colab": {
          "base_uri": "https://localhost:8080/",
          "height": 35
        }
      },
      "source": [
        "# preprocessing\n",
        "c = [element for i, element in enumerate(columns) if element != 'Market Share_total']\n",
        "X = data[c]\n",
        "Y = data['Market Share_total']\n",
        "print(\"data shape: \\t\", data.shape, \", X shape: \\t\", X.shape, \"\\t, Y shape: \\t\", Y.shape)"
      ],
      "execution_count": 0,
      "outputs": [
        {
          "output_type": "stream",
          "text": [
            "data shape: \t (616656, 20) , X shape: \t (616656, 10) \t, Y shape: \t (616656,)\n"
          ],
          "name": "stdout"
        }
      ]
    },
    {
      "cell_type": "code",
      "metadata": {
        "id": "4pi1Xt1Pkcb_",
        "colab_type": "code",
        "outputId": "9a0b23c8-c545-410d-f164-758bf232deda",
        "colab": {
          "base_uri": "https://localhost:8080/",
          "height": 935
        }
      },
      "source": [
        "#Label Encoder. In order to be able to get real classes back I didn't use for loop!\n",
        "le0 = preprocessing.LabelEncoder()\n",
        "le1 = preprocessing.LabelEncoder()\n",
        "le2 = preprocessing.LabelEncoder()\n",
        "le3 = preprocessing.LabelEncoder()\n",
        "le4 = preprocessing.LabelEncoder()\n",
        "le5 = preprocessing.LabelEncoder()\n",
        "le6 = preprocessing.LabelEncoder()\n",
        "le7 = preprocessing.LabelEncoder()\n",
        "le8 = preprocessing.LabelEncoder()\n",
        "le9 = preprocessing.LabelEncoder()\n",
        "\n",
        "X['Station'] = le0.fit_transform(X['Station'])\n",
        "X['Channel Type'] = le1.fit_transform(X['Channel Type'])\n",
        "X['Season'] = le2.fit_transform(X['Season'])\n",
        "X['Day of week'] = le3.fit_transform(X['Day of week'])\n",
        "X['Genre'] = le4.fit_transform(X['Genre'])\n",
        "X['First time or rerun'] = le5.fit_transform(X['First time or rerun'])\n",
        "X['# of episode in the season'] = le6.fit_transform(X['# of episode in the season'])\n",
        "X['Movie?'] = le7.fit_transform(X['Movie?'])\n",
        "X['Game of the Canadiens during episode?'] = le8.fit_transform(X['Game of the Canadiens during episode?'])"
      ],
      "execution_count": 0,
      "outputs": [
        {
          "output_type": "stream",
          "text": [
            "/usr/local/lib/python3.6/dist-packages/ipykernel_launcher.py:12: SettingWithCopyWarning: \n",
            "A value is trying to be set on a copy of a slice from a DataFrame.\n",
            "Try using .loc[row_indexer,col_indexer] = value instead\n",
            "\n",
            "See the caveats in the documentation: http://pandas.pydata.org/pandas-docs/stable/user_guide/indexing.html#returning-a-view-versus-a-copy\n",
            "  if sys.path[0] == '':\n",
            "/usr/local/lib/python3.6/dist-packages/ipykernel_launcher.py:13: SettingWithCopyWarning: \n",
            "A value is trying to be set on a copy of a slice from a DataFrame.\n",
            "Try using .loc[row_indexer,col_indexer] = value instead\n",
            "\n",
            "See the caveats in the documentation: http://pandas.pydata.org/pandas-docs/stable/user_guide/indexing.html#returning-a-view-versus-a-copy\n",
            "  del sys.path[0]\n",
            "/usr/local/lib/python3.6/dist-packages/ipykernel_launcher.py:14: SettingWithCopyWarning: \n",
            "A value is trying to be set on a copy of a slice from a DataFrame.\n",
            "Try using .loc[row_indexer,col_indexer] = value instead\n",
            "\n",
            "See the caveats in the documentation: http://pandas.pydata.org/pandas-docs/stable/user_guide/indexing.html#returning-a-view-versus-a-copy\n",
            "  \n",
            "/usr/local/lib/python3.6/dist-packages/ipykernel_launcher.py:15: SettingWithCopyWarning: \n",
            "A value is trying to be set on a copy of a slice from a DataFrame.\n",
            "Try using .loc[row_indexer,col_indexer] = value instead\n",
            "\n",
            "See the caveats in the documentation: http://pandas.pydata.org/pandas-docs/stable/user_guide/indexing.html#returning-a-view-versus-a-copy\n",
            "  from ipykernel import kernelapp as app\n",
            "/usr/local/lib/python3.6/dist-packages/ipykernel_launcher.py:16: SettingWithCopyWarning: \n",
            "A value is trying to be set on a copy of a slice from a DataFrame.\n",
            "Try using .loc[row_indexer,col_indexer] = value instead\n",
            "\n",
            "See the caveats in the documentation: http://pandas.pydata.org/pandas-docs/stable/user_guide/indexing.html#returning-a-view-versus-a-copy\n",
            "  app.launch_new_instance()\n",
            "/usr/local/lib/python3.6/dist-packages/ipykernel_launcher.py:17: SettingWithCopyWarning: \n",
            "A value is trying to be set on a copy of a slice from a DataFrame.\n",
            "Try using .loc[row_indexer,col_indexer] = value instead\n",
            "\n",
            "See the caveats in the documentation: http://pandas.pydata.org/pandas-docs/stable/user_guide/indexing.html#returning-a-view-versus-a-copy\n",
            "/usr/local/lib/python3.6/dist-packages/ipykernel_launcher.py:18: SettingWithCopyWarning: \n",
            "A value is trying to be set on a copy of a slice from a DataFrame.\n",
            "Try using .loc[row_indexer,col_indexer] = value instead\n",
            "\n",
            "See the caveats in the documentation: http://pandas.pydata.org/pandas-docs/stable/user_guide/indexing.html#returning-a-view-versus-a-copy\n",
            "/usr/local/lib/python3.6/dist-packages/ipykernel_launcher.py:19: SettingWithCopyWarning: \n",
            "A value is trying to be set on a copy of a slice from a DataFrame.\n",
            "Try using .loc[row_indexer,col_indexer] = value instead\n",
            "\n",
            "See the caveats in the documentation: http://pandas.pydata.org/pandas-docs/stable/user_guide/indexing.html#returning-a-view-versus-a-copy\n",
            "/usr/local/lib/python3.6/dist-packages/ipykernel_launcher.py:20: SettingWithCopyWarning: \n",
            "A value is trying to be set on a copy of a slice from a DataFrame.\n",
            "Try using .loc[row_indexer,col_indexer] = value instead\n",
            "\n",
            "See the caveats in the documentation: http://pandas.pydata.org/pandas-docs/stable/user_guide/indexing.html#returning-a-view-versus-a-copy\n"
          ],
          "name": "stderr"
        }
      ]
    },
    {
      "cell_type": "code",
      "metadata": {
        "id": "FvCD_Kvtrk86",
        "colab_type": "code",
        "outputId": "89fcf55c-7d77-47a3-8f7f-e112c75d94c7",
        "colab": {
          "base_uri": "https://localhost:8080/",
          "height": 224
        }
      },
      "source": [
        "X.head()"
      ],
      "execution_count": 0,
      "outputs": [
        {
          "output_type": "execute_result",
          "data": {
            "text/html": [
              "<div>\n",
              "<style scoped>\n",
              "    .dataframe tbody tr th:only-of-type {\n",
              "        vertical-align: middle;\n",
              "    }\n",
              "\n",
              "    .dataframe tbody tr th {\n",
              "        vertical-align: top;\n",
              "    }\n",
              "\n",
              "    .dataframe thead th {\n",
              "        text-align: right;\n",
              "    }\n",
              "</style>\n",
              "<table border=\"1\" class=\"dataframe\">\n",
              "  <thead>\n",
              "    <tr style=\"text-align: right;\">\n",
              "      <th></th>\n",
              "      <th>Station</th>\n",
              "      <th>Channel Type</th>\n",
              "      <th>Season</th>\n",
              "      <th>Day of week</th>\n",
              "      <th>Length</th>\n",
              "      <th>Genre</th>\n",
              "      <th>First time or rerun</th>\n",
              "      <th># of episode in the season</th>\n",
              "      <th>Movie?</th>\n",
              "      <th>Game of the Canadiens during episode?</th>\n",
              "    </tr>\n",
              "  </thead>\n",
              "  <tbody>\n",
              "    <tr>\n",
              "      <th>0</th>\n",
              "      <td>21</td>\n",
              "      <td>0</td>\n",
              "      <td>0</td>\n",
              "      <td>1</td>\n",
              "      <td>8</td>\n",
              "      <td>11</td>\n",
              "      <td>0</td>\n",
              "      <td>1</td>\n",
              "      <td>0</td>\n",
              "      <td>0</td>\n",
              "    </tr>\n",
              "    <tr>\n",
              "      <th>1</th>\n",
              "      <td>21</td>\n",
              "      <td>0</td>\n",
              "      <td>0</td>\n",
              "      <td>1</td>\n",
              "      <td>2</td>\n",
              "      <td>8</td>\n",
              "      <td>0</td>\n",
              "      <td>1</td>\n",
              "      <td>0</td>\n",
              "      <td>0</td>\n",
              "    </tr>\n",
              "    <tr>\n",
              "      <th>2</th>\n",
              "      <td>21</td>\n",
              "      <td>0</td>\n",
              "      <td>0</td>\n",
              "      <td>1</td>\n",
              "      <td>2</td>\n",
              "      <td>7</td>\n",
              "      <td>0</td>\n",
              "      <td>1</td>\n",
              "      <td>0</td>\n",
              "      <td>0</td>\n",
              "    </tr>\n",
              "    <tr>\n",
              "      <th>3</th>\n",
              "      <td>21</td>\n",
              "      <td>0</td>\n",
              "      <td>0</td>\n",
              "      <td>1</td>\n",
              "      <td>4</td>\n",
              "      <td>14</td>\n",
              "      <td>0</td>\n",
              "      <td>1</td>\n",
              "      <td>0</td>\n",
              "      <td>0</td>\n",
              "    </tr>\n",
              "    <tr>\n",
              "      <th>4</th>\n",
              "      <td>21</td>\n",
              "      <td>0</td>\n",
              "      <td>0</td>\n",
              "      <td>1</td>\n",
              "      <td>2</td>\n",
              "      <td>20</td>\n",
              "      <td>0</td>\n",
              "      <td>1</td>\n",
              "      <td>0</td>\n",
              "      <td>0</td>\n",
              "    </tr>\n",
              "  </tbody>\n",
              "</table>\n",
              "</div>"
            ],
            "text/plain": [
              "   Station  Channel Type  ...  Movie?  Game of the Canadiens during episode?\n",
              "0       21             0  ...       0                                      0\n",
              "1       21             0  ...       0                                      0\n",
              "2       21             0  ...       0                                      0\n",
              "3       21             0  ...       0                                      0\n",
              "4       21             0  ...       0                                      0\n",
              "\n",
              "[5 rows x 10 columns]"
            ]
          },
          "metadata": {
            "tags": []
          },
          "execution_count": 73
        }
      ]
    },
    {
      "cell_type": "code",
      "metadata": {
        "id": "GW0Y4sC2sMo6",
        "colab_type": "code",
        "colab": {}
      },
      "source": [
        "X_train, X_test, Y_train, Y_test = train_test_split(X, Y, test_size=0.3, random_state=42)"
      ],
      "execution_count": 0,
      "outputs": []
    },
    {
      "cell_type": "code",
      "metadata": {
        "id": "bxDdUcV70TTL",
        "colab_type": "code",
        "outputId": "cbb521be-bef4-4b5e-fc01-ad5d83107a2a",
        "colab": {
          "base_uri": "https://localhost:8080/",
          "height": 35
        }
      },
      "source": [
        "est = make_pipeline(preprocessing.QuantileTransformer(),\n",
        "                    MLPRegressor(hidden_layer_sizes=(50, 50),\n",
        "                                 learning_rate_init=0.01,\n",
        "                                 early_stopping=True))\n",
        "est.fit(X_train, Y_train)\n",
        "est.score(X_test, Y_test)"
      ],
      "execution_count": 0,
      "outputs": [
        {
          "output_type": "execute_result",
          "data": {
            "text/plain": [
              "0.7100239440426357"
            ]
          },
          "metadata": {
            "tags": []
          },
          "execution_count": 110
        }
      ]
    },
    {
      "cell_type": "code",
      "metadata": {
        "id": "HnIBEEZYhpqT",
        "colab_type": "code",
        "colab": {}
      },
      "source": [
        "# separate train and validation set"
      ],
      "execution_count": 0,
      "outputs": []
    }
  ]
}