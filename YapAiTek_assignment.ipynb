{
  "nbformat": 4,
  "nbformat_minor": 0,
  "metadata": {
    "colab": {
      "name": "YapAiTek assignment.ipynb",
      "provenance": [],
      "collapsed_sections": [],
      "machine_shape": "hm",
      "authorship_tag": "ABX9TyNJNe950oXmMrNvoUuyAtI7",
      "include_colab_link": true
    },
    "kernelspec": {
      "name": "python3",
      "display_name": "Python 3"
    },
    "accelerator": "TPU"
  },
  "cells": [
    {
      "cell_type": "markdown",
      "metadata": {
        "id": "view-in-github",
        "colab_type": "text"
      },
      "source": [
        "<a href=\"https://colab.research.google.com/github/MohammadAliAfsahi/YapAiTek-assignment/blob/master/YapAiTek_assignment.ipynb\" target=\"_parent\"><img src=\"https://colab.research.google.com/assets/colab-badge.svg\" alt=\"Open In Colab\"/></a>"
      ]
    },
    {
      "cell_type": "code",
      "metadata": {
        "id": "XDOait8F_Ues",
        "colab_type": "code",
        "outputId": "a17552a4-e897-4401-c5d9-bf8966294e46",
        "colab": {
          "base_uri": "https://localhost:8080/",
          "height": 129
        }
      },
      "source": [
        "from google.colab import drive\n",
        "drive.mount('/content/drive')"
      ],
      "execution_count": 4,
      "outputs": [
        {
          "output_type": "stream",
          "text": [
            "Go to this URL in a browser: https://accounts.google.com/o/oauth2/auth?client_id=947318989803-6bn6qk8qdgf4n4g3pfee6491hc0brc4i.apps.googleusercontent.com&redirect_uri=urn%3aietf%3awg%3aoauth%3a2.0%3aoob&response_type=code&scope=email%20https%3a%2f%2fwww.googleapis.com%2fauth%2fdocs.test%20https%3a%2f%2fwww.googleapis.com%2fauth%2fdrive%20https%3a%2f%2fwww.googleapis.com%2fauth%2fdrive.photos.readonly%20https%3a%2f%2fwww.googleapis.com%2fauth%2fpeopleapi.readonly\n",
            "\n",
            "Enter your authorization code:\n",
            "··········\n",
            "Mounted at /content/drive\n"
          ],
          "name": "stdout"
        }
      ]
    },
    {
      "cell_type": "code",
      "metadata": {
        "id": "1D9Nto4gAVpN",
        "colab_type": "code",
        "colab": {
          "base_uri": "https://localhost:8080/",
          "height": 35
        },
        "outputId": "20b2aaea-bf64-4237-87ab-830bc90e5e53"
      },
      "source": [
        "#importing modules\n",
        "import pandas as pd\n",
        "import numpy as np\n",
        "import matplotlib.pyplot as plt\n",
        "import datetime\n",
        "\n",
        "from sklearn import preprocessing\n",
        "from sklearn.model_selection import train_test_split\n",
        "from sklearn.svm import LinearSVR\n",
        "from sklearn.linear_model import LinearRegression\n",
        "from sklearn.neural_network import MLPRegressor\n",
        "from sklearn.pipeline import make_pipeline\n",
        "from sklearn.metrics import mean_absolute_error\n",
        "from sklearn.model_selection import cross_val_score\n",
        "from sklearn.model_selection import KFold\n",
        "from sklearn.preprocessing import StandardScaler\n",
        "from sklearn.pipeline import Pipeline\n",
        "from sklearn import linear_model\n",
        "from sklearn.model_selection import learning_curve\n",
        "from sklearn import model_selection\n",
        "\n",
        "from keras.models import Sequential\n",
        "from keras.layers import Dense, Activation\n",
        "from keras import optimizers\n",
        "from keras import losses\n",
        "from keras import metrics\n",
        "from keras.wrappers.scikit_learn import KerasRegressor"
      ],
      "execution_count": 5,
      "outputs": [
        {
          "output_type": "stream",
          "text": [
            "Using TensorFlow backend.\n"
          ],
          "name": "stderr"
        }
      ]
    },
    {
      "cell_type": "code",
      "metadata": {
        "id": "jHPxWdLqA3c2",
        "colab_type": "code",
        "colab": {}
      },
      "source": [
        "data = pd.read_csv('/content/drive/My Drive/Colab Notebooks/YapAiTek assignment/data.csv')\n",
        "test = pd.read_csv('/content/drive/My Drive/Colab Notebooks/YapAiTek assignment/test.csv')"
      ],
      "execution_count": 0,
      "outputs": []
    },
    {
      "cell_type": "code",
      "metadata": {
        "id": "gVdsD9-xBbem",
        "colab_type": "code",
        "outputId": "e8f0a84b-0174-443d-dd6a-53ce01fcf48e",
        "colab": {
          "base_uri": "https://localhost:8080/",
          "height": 504
        }
      },
      "source": [
        "data.head()"
      ],
      "execution_count": 0,
      "outputs": [
        {
          "output_type": "execute_result",
          "data": {
            "text/html": [
              "<div>\n",
              "<style scoped>\n",
              "    .dataframe tbody tr th:only-of-type {\n",
              "        vertical-align: middle;\n",
              "    }\n",
              "\n",
              "    .dataframe tbody tr th {\n",
              "        vertical-align: top;\n",
              "    }\n",
              "\n",
              "    .dataframe thead th {\n",
              "        text-align: right;\n",
              "    }\n",
              "</style>\n",
              "<table border=\"1\" class=\"dataframe\">\n",
              "  <thead>\n",
              "    <tr style=\"text-align: right;\">\n",
              "      <th></th>\n",
              "      <th>Unnamed: 0</th>\n",
              "      <th>Episode</th>\n",
              "      <th>Station</th>\n",
              "      <th>Channel Type</th>\n",
              "      <th>Season</th>\n",
              "      <th>Year</th>\n",
              "      <th>Date</th>\n",
              "      <th>Day of week</th>\n",
              "      <th>Start_time</th>\n",
              "      <th>End_time</th>\n",
              "      <th>Length</th>\n",
              "      <th>Name of show</th>\n",
              "      <th>Name of episode</th>\n",
              "      <th>Genre</th>\n",
              "      <th>First time or rerun</th>\n",
              "      <th># of episode in the season</th>\n",
              "      <th>Movie?</th>\n",
              "      <th>Game of the Canadiens during episode?</th>\n",
              "      <th>Market Share_total</th>\n",
              "      <th>Temperature in Montreal during episode</th>\n",
              "    </tr>\n",
              "  </thead>\n",
              "  <tbody>\n",
              "    <tr>\n",
              "      <th>0</th>\n",
              "      <td>1</td>\n",
              "      <td>Vidéoclips V</td>\n",
              "      <td>V Total</td>\n",
              "      <td>General Channel</td>\n",
              "      <td>Fall</td>\n",
              "      <td>2016</td>\n",
              "      <td>2016-08-29</td>\n",
              "      <td>Monday</td>\n",
              "      <td>2016-08-29 06:00:00</td>\n",
              "      <td>2016-08-29 08:00:00</td>\n",
              "      <td>8</td>\n",
              "      <td>Vidéoclips V</td>\n",
              "      <td>NaN</td>\n",
              "      <td>Music Video Clips</td>\n",
              "      <td>No</td>\n",
              "      <td>Yes</td>\n",
              "      <td>No</td>\n",
              "      <td>No</td>\n",
              "      <td>0.9</td>\n",
              "      <td>20.400</td>\n",
              "    </tr>\n",
              "    <tr>\n",
              "      <th>1</th>\n",
              "      <td>2</td>\n",
              "      <td>Apollo dans l'frigo</td>\n",
              "      <td>V Total</td>\n",
              "      <td>General Channel</td>\n",
              "      <td>Fall</td>\n",
              "      <td>2016</td>\n",
              "      <td>2016-08-29</td>\n",
              "      <td>Monday</td>\n",
              "      <td>2016-08-29 08:00:00</td>\n",
              "      <td>2016-08-29 08:30:00</td>\n",
              "      <td>2</td>\n",
              "      <td>Apollo dans l'frigo</td>\n",
              "      <td>NaN</td>\n",
              "      <td>Informal Education and Recreation and Leisure</td>\n",
              "      <td>No</td>\n",
              "      <td>Yes</td>\n",
              "      <td>No</td>\n",
              "      <td>No</td>\n",
              "      <td>0.5</td>\n",
              "      <td>19.125</td>\n",
              "    </tr>\n",
              "    <tr>\n",
              "      <th>2</th>\n",
              "      <td>3</td>\n",
              "      <td>Infopublicité</td>\n",
              "      <td>V Total</td>\n",
              "      <td>General Channel</td>\n",
              "      <td>Fall</td>\n",
              "      <td>2016</td>\n",
              "      <td>2016-08-29</td>\n",
              "      <td>Monday</td>\n",
              "      <td>2016-08-29 08:30:00</td>\n",
              "      <td>2016-08-29 09:00:00</td>\n",
              "      <td>2</td>\n",
              "      <td>Infopublicité</td>\n",
              "      <td>NaN</td>\n",
              "      <td>Infomercials, Promotional and Corporate Videos</td>\n",
              "      <td>No</td>\n",
              "      <td>Yes</td>\n",
              "      <td>No</td>\n",
              "      <td>No</td>\n",
              "      <td>0.3</td>\n",
              "      <td>19.125</td>\n",
              "    </tr>\n",
              "    <tr>\n",
              "      <th>3</th>\n",
              "      <td>4</td>\n",
              "      <td>Infos, Les</td>\n",
              "      <td>V Total</td>\n",
              "      <td>General Channel</td>\n",
              "      <td>Fall</td>\n",
              "      <td>2016</td>\n",
              "      <td>2016-08-29</td>\n",
              "      <td>Monday</td>\n",
              "      <td>2016-08-29 09:00:00</td>\n",
              "      <td>2016-08-29 10:00:00</td>\n",
              "      <td>4</td>\n",
              "      <td>Infos, Les</td>\n",
              "      <td>NaN</td>\n",
              "      <td>News</td>\n",
              "      <td>No</td>\n",
              "      <td>Yes</td>\n",
              "      <td>No</td>\n",
              "      <td>No</td>\n",
              "      <td>1.7</td>\n",
              "      <td>18.125</td>\n",
              "    </tr>\n",
              "    <tr>\n",
              "      <th>4</th>\n",
              "      <td>5</td>\n",
              "      <td>Souper presque parfait, Un</td>\n",
              "      <td>V Total</td>\n",
              "      <td>General Channel</td>\n",
              "      <td>Fall</td>\n",
              "      <td>2016</td>\n",
              "      <td>2016-08-29</td>\n",
              "      <td>Monday</td>\n",
              "      <td>2016-08-29 10:00:00</td>\n",
              "      <td>2016-08-29 10:30:00</td>\n",
              "      <td>2</td>\n",
              "      <td>Souper presque parfait, Un</td>\n",
              "      <td>NaN</td>\n",
              "      <td>Reality Programs</td>\n",
              "      <td>No</td>\n",
              "      <td>Yes</td>\n",
              "      <td>No</td>\n",
              "      <td>No</td>\n",
              "      <td>2.2</td>\n",
              "      <td>18.250</td>\n",
              "    </tr>\n",
              "  </tbody>\n",
              "</table>\n",
              "</div>"
            ],
            "text/plain": [
              "   Unnamed: 0  ... Temperature in Montreal during episode\n",
              "0           1  ...                                 20.400\n",
              "1           2  ...                                 19.125\n",
              "2           3  ...                                 19.125\n",
              "3           4  ...                                 18.125\n",
              "4           5  ...                                 18.250\n",
              "\n",
              "[5 rows x 20 columns]"
            ]
          },
          "metadata": {
            "tags": []
          },
          "execution_count": 6
        }
      ]
    },
    {
      "cell_type": "code",
      "metadata": {
        "id": "1zoSGWsekaOm",
        "colab_type": "code",
        "outputId": "2a00b574-2e35-41d9-bab2-c24517e0c55c",
        "colab": {
          "base_uri": "https://localhost:8080/",
          "height": 476
        }
      },
      "source": [
        "data.info()"
      ],
      "execution_count": 0,
      "outputs": [
        {
          "output_type": "stream",
          "text": [
            "<class 'pandas.core.frame.DataFrame'>\n",
            "RangeIndex: 616656 entries, 0 to 616655\n",
            "Data columns (total 20 columns):\n",
            "Unnamed: 0                                616656 non-null int64\n",
            "Episode                                   616656 non-null object\n",
            "Station                                   616656 non-null object\n",
            "Channel Type                              616656 non-null object\n",
            "Season                                    616656 non-null object\n",
            "Year                                      616656 non-null int64\n",
            "Date                                      616656 non-null object\n",
            "Day of week                               616656 non-null object\n",
            "Start_time                                616613 non-null object\n",
            "End_time                                  616613 non-null object\n",
            "Length                                    616656 non-null int64\n",
            "Name of show                              616656 non-null object\n",
            "Name of episode                           394077 non-null object\n",
            "Genre                                     616656 non-null object\n",
            "First time or rerun                       616656 non-null object\n",
            "# of episode in the season                616656 non-null object\n",
            "Movie?                                    616656 non-null object\n",
            "Game of the Canadiens during episode?     616656 non-null object\n",
            "Market Share_total                        616656 non-null float64\n",
            "Temperature in Montreal during episode    533312 non-null float64\n",
            "dtypes: float64(2), int64(3), object(15)\n",
            "memory usage: 94.1+ MB\n"
          ],
          "name": "stdout"
        }
      ]
    },
    {
      "cell_type": "code",
      "metadata": {
        "id": "Ys38DmxG2Ur3",
        "colab_type": "code",
        "outputId": "e107a1f1-b438-4fde-f79a-320ed48de7f5",
        "colab": {
          "base_uri": "https://localhost:8080/",
          "height": 403
        }
      },
      "source": [
        "data.isna().sum()"
      ],
      "execution_count": 0,
      "outputs": [
        {
          "output_type": "execute_result",
          "data": {
            "text/plain": [
              "Unnamed: 0                                     0\n",
              "Episode                                        0\n",
              "Station                                        0\n",
              "Channel Type                                   0\n",
              "Season                                         0\n",
              "Year                                           0\n",
              "Date                                           0\n",
              "Day of week                                    0\n",
              "Start_time                                    43\n",
              "End_time                                      43\n",
              "Length                                         0\n",
              "Name of show                                   0\n",
              "Name of episode                           222579\n",
              "Genre                                          0\n",
              "First time or rerun                            0\n",
              "# of episode in the season                     0\n",
              "Movie?                                         0\n",
              "Game of the Canadiens during episode?          0\n",
              "Market Share_total                             0\n",
              "Temperature in Montreal during episode     83344\n",
              "dtype: int64"
            ]
          },
          "metadata": {
            "tags": []
          },
          "execution_count": 8
        }
      ]
    },
    {
      "cell_type": "code",
      "metadata": {
        "id": "bDmrqqfbj7QN",
        "colab_type": "code",
        "outputId": "4c11c34e-8b0f-4624-d149-c758bae09f86",
        "colab": {
          "base_uri": "https://localhost:8080/",
          "height": 182
        }
      },
      "source": [
        "data['Market Share_total'].describe()"
      ],
      "execution_count": 0,
      "outputs": [
        {
          "output_type": "execute_result",
          "data": {
            "text/plain": [
              "count    616656.000000\n",
              "mean          3.011562\n",
              "std           4.919562\n",
              "min           0.000000\n",
              "25%           0.400000\n",
              "50%           1.400000\n",
              "75%           3.400000\n",
              "max          89.500000\n",
              "Name: Market Share_total, dtype: float64"
            ]
          },
          "metadata": {
            "tags": []
          },
          "execution_count": 9
        }
      ]
    },
    {
      "cell_type": "code",
      "metadata": {
        "id": "MWZj5d3Fmbjt",
        "colab_type": "code",
        "outputId": "4fae8a66-a984-4c12-ab12-13a62e1dd092",
        "colab": {
          "base_uri": "https://localhost:8080/",
          "height": 476
        }
      },
      "source": [
        "data['Station'].value_counts()"
      ],
      "execution_count": 0,
      "outputs": [
        {
          "output_type": "execute_result",
          "data": {
            "text/plain": [
              "Teletoon Fr.+                          50750\n",
              "Unis TV+                               46318\n",
              "TQ Total                               44150\n",
              "RDI+                                   40490\n",
              "SRC Total                              37582\n",
              "TV5+                                   29974\n",
              "Z+                                     29715\n",
              "Historia+                              29267\n",
              "MusiquePlus+ (retired Aug 25, 2019)    27555\n",
              "Canal Vie+                             27528\n",
              "Canal D+                               26075\n",
              "MAX+                                   24418\n",
              "ARTV+                                  24298\n",
              "VRAK+                                  23903\n",
              "Evasion+                               23508\n",
              "TVA Total                              21834\n",
              "Series++                               21575\n",
              "V Total                                21289\n",
              "RDS2+                                  19075\n",
              "LCN+                                   17536\n",
              "RDS+                                   17468\n",
              "Meteomedia+                            10524\n",
              "PYC Online Stream Fr CBC-8+              912\n",
              "PYC Online Stream Fr CBC-9+              912\n",
              "Name: Station, dtype: int64"
            ]
          },
          "metadata": {
            "tags": []
          },
          "execution_count": 10
        }
      ]
    },
    {
      "cell_type": "code",
      "metadata": {
        "id": "-1dlaKkTmh7O",
        "colab_type": "code",
        "outputId": "6885b337-b0e0-4dfd-f81d-5d12bbeeb323",
        "colab": {
          "base_uri": "https://localhost:8080/",
          "height": 72
        }
      },
      "source": [
        "data['Channel Type'].value_counts()"
      ],
      "execution_count": 0,
      "outputs": [
        {
          "output_type": "execute_result",
          "data": {
            "text/plain": [
              "Specialty Channel    535951\n",
              "General Channel       80705\n",
              "Name: Channel Type, dtype: int64"
            ]
          },
          "metadata": {
            "tags": []
          },
          "execution_count": 11
        }
      ]
    },
    {
      "cell_type": "code",
      "metadata": {
        "id": "dIq4befGmu_U",
        "colab_type": "code",
        "outputId": "932cc53c-78a7-4096-ebb5-2290f349afa6",
        "colab": {
          "base_uri": "https://localhost:8080/",
          "height": 109
        }
      },
      "source": [
        "data['Season'].value_counts()"
      ],
      "execution_count": 0,
      "outputs": [
        {
          "output_type": "execute_result",
          "data": {
            "text/plain": [
              "Fall      234291\n",
              "Winter    195257\n",
              "Summer    127457\n",
              "Spring     59651\n",
              "Name: Season, dtype: int64"
            ]
          },
          "metadata": {
            "tags": []
          },
          "execution_count": 12
        }
      ]
    },
    {
      "cell_type": "code",
      "metadata": {
        "id": "XPB1r8xZk24L",
        "colab_type": "code",
        "outputId": "34be1672-6a97-4fbc-da6c-db8523f4f804",
        "colab": {
          "base_uri": "https://localhost:8080/",
          "height": 109
        }
      },
      "source": [
        "data['Year'].value_counts()"
      ],
      "execution_count": 0,
      "outputs": [
        {
          "output_type": "execute_result",
          "data": {
            "text/plain": [
              "2018    260132\n",
              "2017    255214\n",
              "2016     75849\n",
              "2019     25461\n",
              "Name: Year, dtype: int64"
            ]
          },
          "metadata": {
            "tags": []
          },
          "execution_count": 13
        }
      ]
    },
    {
      "cell_type": "code",
      "metadata": {
        "id": "gWMLOIQBmVTA",
        "colab_type": "code",
        "outputId": "c9327a09-efa6-4dd5-94df-7daf92eda532",
        "colab": {
          "base_uri": "https://localhost:8080/",
          "height": 164
        }
      },
      "source": [
        "data['Day of week'].value_counts()"
      ],
      "execution_count": 0,
      "outputs": [
        {
          "output_type": "execute_result",
          "data": {
            "text/plain": [
              "Wednesday    89748\n",
              "Tuesday      89058\n",
              "Friday       88795\n",
              "Monday       88597\n",
              "Thursday     88507\n",
              "Saturday     86604\n",
              "Sunday       85347\n",
              "Name: Day of week, dtype: int64"
            ]
          },
          "metadata": {
            "tags": []
          },
          "execution_count": 14
        }
      ]
    },
    {
      "cell_type": "code",
      "metadata": {
        "id": "qQrFw5Fom8N5",
        "colab_type": "code",
        "outputId": "2c308772-ddc3-4d68-b2b4-1394e63531be",
        "colab": {
          "base_uri": "https://localhost:8080/",
          "height": 752
        }
      },
      "source": [
        "data['Length'].value_counts()"
      ],
      "execution_count": 0,
      "outputs": [
        {
          "output_type": "execute_result",
          "data": {
            "text/plain": [
              "2     266631\n",
              "4     170233\n",
              "0      60086\n",
              "1      55190\n",
              "3      14709\n",
              "8      13347\n",
              "6       8766\n",
              "12      4043\n",
              "7       3542\n",
              "28      3534\n",
              "10      3160\n",
              "16      2852\n",
              "5       2251\n",
              "84      1752\n",
              "9       1557\n",
              "14      1522\n",
              "24       937\n",
              "11       778\n",
              "15       691\n",
              "13       516\n",
              "18       219\n",
              "20       118\n",
              "26        46\n",
              "17        41\n",
              "22        40\n",
              "19        26\n",
              "21        26\n",
              "23        16\n",
              "30         7\n",
              "25         3\n",
              "32         3\n",
              "36         3\n",
              "27         2\n",
              "34         2\n",
              "40         2\n",
              "80         2\n",
              "38         1\n",
              "39         1\n",
              "92         1\n",
              "Name: Length, dtype: int64"
            ]
          },
          "metadata": {
            "tags": []
          },
          "execution_count": 15
        }
      ]
    },
    {
      "cell_type": "code",
      "metadata": {
        "id": "cg_TY0SsnN1f",
        "colab_type": "code",
        "outputId": "1716a150-eb0e-427b-fce8-cfc59c515afb",
        "colab": {
          "base_uri": "https://localhost:8080/",
          "height": 531
        }
      },
      "source": [
        "data['Genre'].value_counts()"
      ],
      "execution_count": 0,
      "outputs": [
        {
          "output_type": "execute_result",
          "data": {
            "text/plain": [
              "Animated Television Programs & Films                          88880\n",
              "Ongoing Dramatic Series                                       79219\n",
              "Reality Programs                                              72861\n",
              "News                                                          71121\n",
              "Long-form Documentary                                         50520\n",
              "Informal Education and Recreation and Leisure                 44804\n",
              "General Entertainment and Human Interest                      37275\n",
              "Professional Sports                                           30871\n",
              "Theatre Feature Films Aired on TV                             20682\n",
              "Interstitial                                                  20000\n",
              "Analysis and Interpretation                                   18353\n",
              "Ongoing Comedy Series (Sitcoms)                               14366\n",
              "Game Shows                                                    11809\n",
              "Music Video Programs                                          11227\n",
              "Infomercials, Promotional and Corporate Videos                 5949\n",
              "Reporting and Actualities                                      5630\n",
              "Music and Dance other than Music Video Programs or Clips       5517\n",
              "Formal Education and Pre-School                                5157\n",
              "Specials, Mini-Series or Made-for-TV Feature Films             5089\n",
              "Programs of Comedy Sketches, Improvision, Unscripted Works     4286\n",
              "Amateur Sports                                                 4258\n",
              "Other Drama                                                    3099\n",
              "Variety                                                        3096\n",
              "Religion                                                       1747\n",
              "Filler                                                          548\n",
              "Music Video Clips                                               156\n",
              "Unknown                                                         136\n",
              "Name: Genre, dtype: int64"
            ]
          },
          "metadata": {
            "tags": []
          },
          "execution_count": 16
        }
      ]
    },
    {
      "cell_type": "code",
      "metadata": {
        "id": "vNTEJdqTa-96",
        "colab_type": "code",
        "outputId": "36c92a75-808d-48bc-f3a0-880e502a4dbb",
        "colab": {
          "base_uri": "https://localhost:8080/",
          "height": 72
        }
      },
      "source": [
        "data['# of episode in the season'].value_counts()"
      ],
      "execution_count": 0,
      "outputs": [
        {
          "output_type": "execute_result",
          "data": {
            "text/plain": [
              "Yes    606002\n",
              "No      10654\n",
              "Name: # of episode in the season, dtype: int64"
            ]
          },
          "metadata": {
            "tags": []
          },
          "execution_count": 17
        }
      ]
    },
    {
      "cell_type": "code",
      "metadata": {
        "id": "W6Nt5rGbnUMg",
        "colab_type": "code",
        "outputId": "e959e046-4cf0-45a3-fc38-19b1655795e1",
        "colab": {
          "base_uri": "https://localhost:8080/",
          "height": 182
        }
      },
      "source": [
        "# No Idea how it can help... \n",
        "data['Temperature in Montreal during episode'].describe()"
      ],
      "execution_count": 34,
      "outputs": [
        {
          "output_type": "execute_result",
          "data": {
            "text/plain": [
              "count    616613.000000\n",
              "mean          6.707370\n",
              "std          11.326032\n",
              "min         -27.425000\n",
              "25%          -0.325000\n",
              "50%           6.707000\n",
              "75%          15.575000\n",
              "max          34.950000\n",
              "Name: Temperature in Montreal during episode, dtype: float64"
            ]
          },
          "metadata": {
            "tags": []
          },
          "execution_count": 34
        }
      ]
    },
    {
      "cell_type": "code",
      "metadata": {
        "id": "_o7sMl77ANUa",
        "colab_type": "code",
        "outputId": "53530a9b-72bf-48a3-f759-aa937b3d713b",
        "colab": {
          "base_uri": "https://localhost:8080/",
          "height": 724
        }
      },
      "source": [
        "plt.hist(data['Temperature in Montreal during episode'], bins=50)"
      ],
      "execution_count": 7,
      "outputs": [
        {
          "output_type": "stream",
          "text": [
            "/usr/local/lib/python3.6/dist-packages/numpy/lib/histograms.py:839: RuntimeWarning: invalid value encountered in greater_equal\n",
            "  keep = (tmp_a >= first_edge)\n",
            "/usr/local/lib/python3.6/dist-packages/numpy/lib/histograms.py:840: RuntimeWarning: invalid value encountered in less_equal\n",
            "  keep &= (tmp_a <= last_edge)\n"
          ],
          "name": "stderr"
        },
        {
          "output_type": "execute_result",
          "data": {
            "text/plain": [
              "(array([  166.,   547.,   996.,  1759.,  1748.,  2368.,  2286.,  3085.,\n",
              "         4094.,  5279.,  5478.,  6856.,  8184.,  9441., 10379., 11984.,\n",
              "         9876., 10570., 14083., 12911., 16133., 22703., 27470., 23802.,\n",
              "        20571., 17800., 14081., 14431., 14185., 15276., 13597., 15292.,\n",
              "        16241., 17185., 17155., 18262., 18677., 19120., 18058., 18246.,\n",
              "        14543., 12545.,  9916.,  6666.,  4514.,  2148.,  1423.,   589.,\n",
              "          463.,   130.]),\n",
              " array([-2.74250e+01, -2.61775e+01, -2.49300e+01, -2.36825e+01,\n",
              "        -2.24350e+01, -2.11875e+01, -1.99400e+01, -1.86925e+01,\n",
              "        -1.74450e+01, -1.61975e+01, -1.49500e+01, -1.37025e+01,\n",
              "        -1.24550e+01, -1.12075e+01, -9.96000e+00, -8.71250e+00,\n",
              "        -7.46500e+00, -6.21750e+00, -4.97000e+00, -3.72250e+00,\n",
              "        -2.47500e+00, -1.22750e+00,  2.00000e-02,  1.26750e+00,\n",
              "         2.51500e+00,  3.76250e+00,  5.01000e+00,  6.25750e+00,\n",
              "         7.50500e+00,  8.75250e+00,  1.00000e+01,  1.12475e+01,\n",
              "         1.24950e+01,  1.37425e+01,  1.49900e+01,  1.62375e+01,\n",
              "         1.74850e+01,  1.87325e+01,  1.99800e+01,  2.12275e+01,\n",
              "         2.24750e+01,  2.37225e+01,  2.49700e+01,  2.62175e+01,\n",
              "         2.74650e+01,  2.87125e+01,  2.99600e+01,  3.12075e+01,\n",
              "         3.24550e+01,  3.37025e+01,  3.49500e+01]),\n",
              " <a list of 50 Patch objects>)"
            ]
          },
          "metadata": {
            "tags": []
          },
          "execution_count": 7
        },
        {
          "output_type": "display_data",
          "data": {
            "image/png": "[encoded data removed]",
            "text/plain": [
              "<Figure size 432x288 with 1 Axes>"
            ]
          },
          "metadata": {
            "tags": []
          }
        }
      ]
    },
    {
      "cell_type": "code",
      "metadata": {
        "id": "NgBQPkhM-VV2",
        "colab_type": "code",
        "colab": {}
      },
      "source": [
        "# fill nan values in temerature column with mean...\n",
        "# Also MinMax normalization with range between (-1, 1) is used...\n",
        "value = {'Temperature in Montreal during episode': round(data['Temperature in Montreal during episode'].mean(), 3)}\n",
        "data.fillna(value=value, inplace=True)\n",
        "\n",
        "scaler = preprocessing.MinMaxScaler(feature_range=(-1, 1))\n",
        "t = scaler.fit_transform(data[['Temperature in Montreal during episode']])\n",
        "data[['Temperature in Montreal during episode']] = t"
      ],
      "execution_count": 0,
      "outputs": []
    },
    {
      "cell_type": "code",
      "metadata": {
        "id": "bZrXH9_dAq1t",
        "colab_type": "code",
        "colab": {}
      },
      "source": [
        "# convert start time and end time to timestamp and extract time from them \n",
        "# then in the following I will label each time of day\n",
        "#\n",
        "# Start time and End time both could effect the result, because time of show can effect the viewers!\n",
        "# couldn't fill nan values in start time and end time, because mode of these two columns are same and mean has no meaning...\n",
        "# so nan values is droped in these two columns\n",
        "\n",
        "data['Start_time'] = pd.to_datetime(data['Start_time'])\n",
        "data['End_time'] = pd.to_datetime(data['End_time'])\n",
        "data['Start_time'] = data['Start_time'].dt.time\n",
        "data['End_time'] = data['End_time'].dt.time\n",
        "\n",
        "data.dropna(axis=0, subset=['Start_time', ], inplace=True)"
      ],
      "execution_count": 0,
      "outputs": []
    },
    {
      "cell_type": "code",
      "metadata": {
        "id": "HCDQZF2PxAII",
        "colab_type": "code",
        "colab": {}
      },
      "source": [
        "def parse(y):\n",
        "  if y < 23.59:\n",
        "    return datetime.datetime.strptime(str(y), '%H').time()\n",
        "  else:\n",
        "    return datetime.datetime.strptime('23:59', '%H:%M').time()\n",
        "\n",
        "def f(x):\n",
        "  try:\n",
        "    if (x > parse(4)) and (x <= parse(8)):\n",
        "        return 'Early Morning'\n",
        "    elif (x > parse(8)) and (x <= parse(12) ):\n",
        "        return 'Morning'\n",
        "    elif (x > parse(12)) and (x <= parse(16)):\n",
        "        return'Noon'\n",
        "    elif (x > parse(16)) and (x <= parse(20)) :\n",
        "        return 'Eve'\n",
        "    elif (x > parse(20)) and (x <= parse(23.59)):\n",
        "        return'Night'\n",
        "    elif (x <= parse(4)):\n",
        "        return'Late Night'\n",
        "  except:\n",
        "    print(x)\n",
        "\n",
        "data['Part of Day'] = data['Start_time'].apply(f)"
      ],
      "execution_count": 0,
      "outputs": []
    },
    {
      "cell_type": "code",
      "metadata": {
        "colab_type": "code",
        "id": "giYqOBiu7tl6",
        "colab": {
          "base_uri": "https://localhost:8080/",
          "height": 35
        },
        "outputId": "1aeb389f-932e-4695-ab7e-768e3f76b523"
      },
      "source": [
        "data['Part of Day'].isna().sum()"
      ],
      "execution_count": 143,
      "outputs": [
        {
          "output_type": "execute_result",
          "data": {
            "text/plain": [
              "0"
            ]
          },
          "metadata": {
            "tags": []
          },
          "execution_count": 143
        }
      ]
    },
    {
      "cell_type": "code",
      "metadata": {
        "id": "p_djcJj9YQqw",
        "colab_type": "code",
        "outputId": "61f55326-5603-4948-b9c2-e065958d236f",
        "colab": {
          "base_uri": "https://localhost:8080/",
          "height": 237
        }
      },
      "source": [
        "data['Name of show'].value_counts()"
      ],
      "execution_count": 0,
      "outputs": [
        {
          "output_type": "execute_result",
          "data": {
            "text/plain": [
              "Complément de programme canadien                           9414\n",
              "Buzz                                                       8551\n",
              "Un souper presque parfait                                  6714\n",
              "Complément de programme                                    5359\n",
              "LCN/MAINTENANT                                             4777\n",
              "                                                           ... \n",
              "SP Jean-Marc Fournier à Ottawa                                1\n",
              "SP 100e anniversaire de l'Armistice                           1\n",
              "Auto Formule 1: Sur la Ligne de Départ GP du Canada - R       1\n",
              "SP:Améliorer le système de santé                              1\n",
              "Mickey Noël merveill                                          1\n",
              "Name: Name of show, Length: 6687, dtype: int64"
            ]
          },
          "metadata": {
            "tags": []
          },
          "execution_count": 76
        }
      ]
    },
    {
      "cell_type": "code",
      "metadata": {
        "id": "9pkBJL9ooc62",
        "colab_type": "code",
        "outputId": "c9a2cc66-54cd-42a5-ae67-1a3119a980bc",
        "colab": {
          "base_uri": "https://localhost:8080/",
          "height": 146
        }
      },
      "source": [
        "data.columns"
      ],
      "execution_count": 144,
      "outputs": [
        {
          "output_type": "execute_result",
          "data": {
            "text/plain": [
              "Index(['Unnamed: 0', 'Episode', 'Station', 'Channel Type', 'Season', 'Year',\n",
              "       'Date', 'Day of week', 'Start_time', 'End_time', 'Length',\n",
              "       'Name of show', 'Name of episode', 'Genre', 'First time or rerun',\n",
              "       '# of episode in the season', 'Movie?',\n",
              "       'Game of the Canadiens during episode?', 'Market Share_total',\n",
              "       'Temperature in Montreal during episode', 'Part of Day'],\n",
              "      dtype='object')"
            ]
          },
          "metadata": {
            "tags": []
          },
          "execution_count": 144
        }
      ]
    },
    {
      "cell_type": "code",
      "metadata": {
        "id": "p3EtJrWnoEag",
        "colab_type": "code",
        "colab": {}
      },
      "source": [
        "# first feature engineering\n",
        "columns = ['Station', 'Channel Type', 'Season', 'Day of week', 'Length','Genre', 'First time or rerun',\n",
        "       '# of episode in the season', 'Movie?',\n",
        "       'Game of the Canadiens during episode?', 'Market Share_total']\n",
        "\n",
        "columns = ['Station', 'Channel Type', 'Season', 'Day of week', 'Length','Genre', 'First time or rerun',\n",
        "       '# of episode in the season', 'Movie?',\n",
        "       'Game of the Canadiens during episode?', 'Market Share_total', 'Temperature in Montreal during episode', 'Part of Day']"
      ],
      "execution_count": 0,
      "outputs": []
    },
    {
      "cell_type": "code",
      "metadata": {
        "id": "v4AQq-eEiLQa",
        "colab_type": "code",
        "outputId": "53a6efef-5586-42cc-81a4-586ae8986af9",
        "colab": {
          "base_uri": "https://localhost:8080/",
          "height": 219
        }
      },
      "source": [
        "for i, element in enumerate(columns):\n",
        "  print (i, element)"
      ],
      "execution_count": 0,
      "outputs": [
        {
          "output_type": "stream",
          "text": [
            "0 Station\n",
            "1 Channel Type\n",
            "2 Season\n",
            "3 Day of week\n",
            "4 Length\n",
            "5 Genre\n",
            "6 First time or rerun\n",
            "7 # of episode in the season\n",
            "8 Movie?\n",
            "9 Game of the Canadiens during episode?\n",
            "10 Market Share_total\n"
          ],
          "name": "stdout"
        }
      ]
    },
    {
      "cell_type": "code",
      "metadata": {
        "id": "IRRrE3bkjOUj",
        "colab_type": "code",
        "outputId": "6dbdf1f8-d541-40f5-98cd-42eece04f734",
        "colab": {
          "base_uri": "https://localhost:8080/",
          "height": 35
        }
      },
      "source": [
        "data.shape"
      ],
      "execution_count": 0,
      "outputs": [
        {
          "output_type": "execute_result",
          "data": {
            "text/plain": [
              "(616656, 20)"
            ]
          },
          "metadata": {
            "tags": []
          },
          "execution_count": 22
        }
      ]
    },
    {
      "cell_type": "code",
      "metadata": {
        "id": "fDr2QJS-b4_7",
        "colab_type": "code",
        "outputId": "4adfb834-185e-4dc6-b620-76d349daab46",
        "colab": {
          "base_uri": "https://localhost:8080/",
          "height": 35
        }
      },
      "source": [
        "# preprocessing\n",
        "c = [element for i, element in enumerate(columns) if element != 'Market Share_total']\n",
        "X = data[c]\n",
        "Y = data['Market Share_total']\n",
        "print(\"data shape: \\t\", data.shape, \", X shape: \\t\", X.shape, \"\\t, Y shape: \\t\", Y.shape)"
      ],
      "execution_count": 146,
      "outputs": [
        {
          "output_type": "stream",
          "text": [
            "data shape: \t (616613, 21) , X shape: \t (616613, 12) \t, Y shape: \t (616613,)\n"
          ],
          "name": "stdout"
        }
      ]
    },
    {
      "cell_type": "code",
      "metadata": {
        "id": "4pi1Xt1Pkcb_",
        "colab_type": "code",
        "outputId": "dd1543ac-e9ab-4e36-9397-d5566d43169f",
        "colab": {
          "base_uri": "https://localhost:8080/",
          "height": 1000
        }
      },
      "source": [
        "#Label Encoder. In order to be able to get real classes back I didn't use for loop!\n",
        "le0 = preprocessing.LabelEncoder()\n",
        "le1 = preprocessing.LabelEncoder()\n",
        "le2 = preprocessing.LabelEncoder()\n",
        "le3 = preprocessing.LabelEncoder()\n",
        "le4 = preprocessing.LabelEncoder()\n",
        "le5 = preprocessing.LabelEncoder()\n",
        "le6 = preprocessing.LabelEncoder()\n",
        "le7 = preprocessing.LabelEncoder()\n",
        "le8 = preprocessing.LabelEncoder()\n",
        "le9 = preprocessing.LabelEncoder()\n",
        "\n",
        "X['Station'] = le0.fit_transform(X['Station'])\n",
        "X['Channel Type'] = le1.fit_transform(X['Channel Type'])\n",
        "X['Season'] = le2.fit_transform(X['Season'])\n",
        "X['Day of week'] = le3.fit_transform(X['Day of week'])\n",
        "X['Genre'] = le4.fit_transform(X['Genre'])\n",
        "X['First time or rerun'] = le5.fit_transform(X['First time or rerun'])\n",
        "X['# of episode in the season'] = le6.fit_transform(X['# of episode in the season'])\n",
        "X['Movie?'] = le7.fit_transform(X['Movie?'])\n",
        "X['Game of the Canadiens during episode?'] = le8.fit_transform(X['Game of the Canadiens during episode?'])\n",
        "X['Part of Day'] = le9.fit_transform(X['Part of Day'])"
      ],
      "execution_count": 147,
      "outputs": [
        {
          "output_type": "stream",
          "text": [
            "/usr/local/lib/python3.6/dist-packages/ipykernel_launcher.py:12: SettingWithCopyWarning: \n",
            "A value is trying to be set on a copy of a slice from a DataFrame.\n",
            "Try using .loc[row_indexer,col_indexer] = value instead\n",
            "\n",
            "See the caveats in the documentation: http://pandas.pydata.org/pandas-docs/stable/user_guide/indexing.html#returning-a-view-versus-a-copy\n",
            "  if sys.path[0] == '':\n",
            "/usr/local/lib/python3.6/dist-packages/ipykernel_launcher.py:13: SettingWithCopyWarning: \n",
            "A value is trying to be set on a copy of a slice from a DataFrame.\n",
            "Try using .loc[row_indexer,col_indexer] = value instead\n",
            "\n",
            "See the caveats in the documentation: http://pandas.pydata.org/pandas-docs/stable/user_guide/indexing.html#returning-a-view-versus-a-copy\n",
            "  del sys.path[0]\n",
            "/usr/local/lib/python3.6/dist-packages/ipykernel_launcher.py:14: SettingWithCopyWarning: \n",
            "A value is trying to be set on a copy of a slice from a DataFrame.\n",
            "Try using .loc[row_indexer,col_indexer] = value instead\n",
            "\n",
            "See the caveats in the documentation: http://pandas.pydata.org/pandas-docs/stable/user_guide/indexing.html#returning-a-view-versus-a-copy\n",
            "  \n",
            "/usr/local/lib/python3.6/dist-packages/ipykernel_launcher.py:15: SettingWithCopyWarning: \n",
            "A value is trying to be set on a copy of a slice from a DataFrame.\n",
            "Try using .loc[row_indexer,col_indexer] = value instead\n",
            "\n",
            "See the caveats in the documentation: http://pandas.pydata.org/pandas-docs/stable/user_guide/indexing.html#returning-a-view-versus-a-copy\n",
            "  from ipykernel import kernelapp as app\n",
            "/usr/local/lib/python3.6/dist-packages/ipykernel_launcher.py:16: SettingWithCopyWarning: \n",
            "A value is trying to be set on a copy of a slice from a DataFrame.\n",
            "Try using .loc[row_indexer,col_indexer] = value instead\n",
            "\n",
            "See the caveats in the documentation: http://pandas.pydata.org/pandas-docs/stable/user_guide/indexing.html#returning-a-view-versus-a-copy\n",
            "  app.launch_new_instance()\n",
            "/usr/local/lib/python3.6/dist-packages/ipykernel_launcher.py:17: SettingWithCopyWarning: \n",
            "A value is trying to be set on a copy of a slice from a DataFrame.\n",
            "Try using .loc[row_indexer,col_indexer] = value instead\n",
            "\n",
            "See the caveats in the documentation: http://pandas.pydata.org/pandas-docs/stable/user_guide/indexing.html#returning-a-view-versus-a-copy\n",
            "/usr/local/lib/python3.6/dist-packages/ipykernel_launcher.py:18: SettingWithCopyWarning: \n",
            "A value is trying to be set on a copy of a slice from a DataFrame.\n",
            "Try using .loc[row_indexer,col_indexer] = value instead\n",
            "\n",
            "See the caveats in the documentation: http://pandas.pydata.org/pandas-docs/stable/user_guide/indexing.html#returning-a-view-versus-a-copy\n",
            "/usr/local/lib/python3.6/dist-packages/ipykernel_launcher.py:19: SettingWithCopyWarning: \n",
            "A value is trying to be set on a copy of a slice from a DataFrame.\n",
            "Try using .loc[row_indexer,col_indexer] = value instead\n",
            "\n",
            "See the caveats in the documentation: http://pandas.pydata.org/pandas-docs/stable/user_guide/indexing.html#returning-a-view-versus-a-copy\n",
            "/usr/local/lib/python3.6/dist-packages/ipykernel_launcher.py:20: SettingWithCopyWarning: \n",
            "A value is trying to be set on a copy of a slice from a DataFrame.\n",
            "Try using .loc[row_indexer,col_indexer] = value instead\n",
            "\n",
            "See the caveats in the documentation: http://pandas.pydata.org/pandas-docs/stable/user_guide/indexing.html#returning-a-view-versus-a-copy\n",
            "/usr/local/lib/python3.6/dist-packages/ipykernel_launcher.py:21: SettingWithCopyWarning: \n",
            "A value is trying to be set on a copy of a slice from a DataFrame.\n",
            "Try using .loc[row_indexer,col_indexer] = value instead\n",
            "\n",
            "See the caveats in the documentation: http://pandas.pydata.org/pandas-docs/stable/user_guide/indexing.html#returning-a-view-versus-a-copy\n"
          ],
          "name": "stderr"
        }
      ]
    },
    {
      "cell_type": "code",
      "metadata": {
        "id": "FvCD_Kvtrk86",
        "colab_type": "code",
        "outputId": "722e8dbf-15da-4393-cc9b-95059082e296",
        "colab": {
          "base_uri": "https://localhost:8080/",
          "height": 241
        }
      },
      "source": [
        "X.head()"
      ],
      "execution_count": 148,
      "outputs": [
        {
          "output_type": "execute_result",
          "data": {
            "text/html": [
              "<div>\n",
              "<style scoped>\n",
              "    .dataframe tbody tr th:only-of-type {\n",
              "        vertical-align: middle;\n",
              "    }\n",
              "\n",
              "    .dataframe tbody tr th {\n",
              "        vertical-align: top;\n",
              "    }\n",
              "\n",
              "    .dataframe thead th {\n",
              "        text-align: right;\n",
              "    }\n",
              "</style>\n",
              "<table border=\"1\" class=\"dataframe\">\n",
              "  <thead>\n",
              "    <tr style=\"text-align: right;\">\n",
              "      <th></th>\n",
              "      <th>Station</th>\n",
              "      <th>Channel Type</th>\n",
              "      <th>Season</th>\n",
              "      <th>Day of week</th>\n",
              "      <th>Length</th>\n",
              "      <th>Genre</th>\n",
              "      <th>First time or rerun</th>\n",
              "      <th># of episode in the season</th>\n",
              "      <th>Movie?</th>\n",
              "      <th>Game of the Canadiens during episode?</th>\n",
              "      <th>Temperature in Montreal during episode</th>\n",
              "      <th>Part of Day</th>\n",
              "    </tr>\n",
              "  </thead>\n",
              "  <tbody>\n",
              "    <tr>\n",
              "      <th>0</th>\n",
              "      <td>21</td>\n",
              "      <td>0</td>\n",
              "      <td>0</td>\n",
              "      <td>1</td>\n",
              "      <td>8</td>\n",
              "      <td>11</td>\n",
              "      <td>0</td>\n",
              "      <td>1</td>\n",
              "      <td>0</td>\n",
              "      <td>0</td>\n",
              "      <td>0.533467</td>\n",
              "      <td>0</td>\n",
              "    </tr>\n",
              "    <tr>\n",
              "      <th>1</th>\n",
              "      <td>21</td>\n",
              "      <td>0</td>\n",
              "      <td>0</td>\n",
              "      <td>1</td>\n",
              "      <td>2</td>\n",
              "      <td>8</td>\n",
              "      <td>0</td>\n",
              "      <td>1</td>\n",
              "      <td>0</td>\n",
              "      <td>0</td>\n",
              "      <td>0.492585</td>\n",
              "      <td>0</td>\n",
              "    </tr>\n",
              "    <tr>\n",
              "      <th>2</th>\n",
              "      <td>21</td>\n",
              "      <td>0</td>\n",
              "      <td>0</td>\n",
              "      <td>1</td>\n",
              "      <td>2</td>\n",
              "      <td>7</td>\n",
              "      <td>0</td>\n",
              "      <td>1</td>\n",
              "      <td>0</td>\n",
              "      <td>0</td>\n",
              "      <td>0.492585</td>\n",
              "      <td>3</td>\n",
              "    </tr>\n",
              "    <tr>\n",
              "      <th>3</th>\n",
              "      <td>21</td>\n",
              "      <td>0</td>\n",
              "      <td>0</td>\n",
              "      <td>1</td>\n",
              "      <td>4</td>\n",
              "      <td>14</td>\n",
              "      <td>0</td>\n",
              "      <td>1</td>\n",
              "      <td>0</td>\n",
              "      <td>0</td>\n",
              "      <td>0.460521</td>\n",
              "      <td>3</td>\n",
              "    </tr>\n",
              "    <tr>\n",
              "      <th>4</th>\n",
              "      <td>21</td>\n",
              "      <td>0</td>\n",
              "      <td>0</td>\n",
              "      <td>1</td>\n",
              "      <td>2</td>\n",
              "      <td>20</td>\n",
              "      <td>0</td>\n",
              "      <td>1</td>\n",
              "      <td>0</td>\n",
              "      <td>0</td>\n",
              "      <td>0.464529</td>\n",
              "      <td>3</td>\n",
              "    </tr>\n",
              "  </tbody>\n",
              "</table>\n",
              "</div>"
            ],
            "text/plain": [
              "   Station  Channel Type  ...  Temperature in Montreal during episode  Part of Day\n",
              "0       21             0  ...                                0.533467            0\n",
              "1       21             0  ...                                0.492585            0\n",
              "2       21             0  ...                                0.492585            3\n",
              "3       21             0  ...                                0.460521            3\n",
              "4       21             0  ...                                0.464529            3\n",
              "\n",
              "[5 rows x 12 columns]"
            ]
          },
          "metadata": {
            "tags": []
          },
          "execution_count": 148
        }
      ]
    },
    {
      "cell_type": "code",
      "metadata": {
        "id": "GW0Y4sC2sMo6",
        "colab_type": "code",
        "colab": {}
      },
      "source": [
        "X_train, X_test, Y_train, Y_test = train_test_split(X, Y, test_size=0.3, random_state=42)"
      ],
      "execution_count": 0,
      "outputs": []
    },
    {
      "cell_type": "code",
      "metadata": {
        "id": "bxDdUcV70TTL",
        "colab_type": "code",
        "outputId": "4aaff58e-3f32-4f1f-ec90-ce1299e305d0",
        "colab": {
          "base_uri": "https://localhost:8080/",
          "height": 35
        }
      },
      "source": [
        "# this has the least loss and mae among following alogrithm...\n",
        "est = MLPRegressor(hidden_layer_sizes=(50, 50),\n",
        "                                 learning_rate_init=0.01,\n",
        "                                 early_stopping=True)\n",
        "est.fit(X_train, Y_train)\n",
        "y_pred = est.predict(X_test)\n",
        "print(\"Loss: \", est.loss_, \"mae: \", mean_absolute_error(Y_test, y_pred), \"R^2 Score: \", est.score(X_test, Y_test))"
      ],
      "execution_count": 153,
      "outputs": [
        {
          "output_type": "stream",
          "text": [
            "Loss:  2.678193811210059 mae:  1.428329408981204 R^2 Score:  0.7844529565109514\n"
          ],
          "name": "stdout"
        }
      ]
    },
    {
      "cell_type": "code",
      "metadata": {
        "id": "JuGL3QWQw58W",
        "colab_type": "code",
        "colab": {
          "base_uri": "https://localhost:8080/",
          "height": 35
        },
        "outputId": "c37348e9-8789-4f96-8b93-c89eeb5fc189"
      },
      "source": [
        "# this has the least loss and mae among following alogrithm...\n",
        "est = MLPRegressor(hidden_layer_sizes=(50, 50),\n",
        "                                 learning_rate_init=0.01,\n",
        "                                 early_stopping=True)\n",
        "est.fit(X_train, Y_train)\n",
        "y_pred = est.predict(X_test)\n",
        "print(\"Loss: \", est.loss_, \"mae: \", mean_absolute_error(Y_test, y_pred), \"R^2 Score: \", est.score(X_test, Y_test))"
      ],
      "execution_count": 151,
      "outputs": [
        {
          "output_type": "stream",
          "text": [
            "Loss:  2.566685288873364 mae:  1.4109436040224934 R^2 Score:  0.7915557379983585\n"
          ],
          "name": "stdout"
        }
      ]
    },
    {
      "cell_type": "code",
      "metadata": {
        "id": "c7aJSFmGs2ps",
        "colab_type": "code",
        "colab": {}
      },
      "source": [
        "# cross validation hyperparameter...\n",
        "parameters = {'hidden_layer_sizes': [(100, 100), (50, 50, 50)],\n",
        "              'activation':['relu'],\n",
        "              'solver': ['adam'],\n",
        "              'alpha': [0.0001, 0.001, 0.01, 0.1]}\n",
        "\n",
        "gs = model_selection.GridSearchCV(estimator=MLPRegressor(), param_grid=parameters, cv=5)\n",
        "gs.fit(X, Y)"
      ],
      "execution_count": 0,
      "outputs": []
    },
    {
      "cell_type": "code",
      "metadata": {
        "id": "1cZvgeDexI1W",
        "colab_type": "code",
        "outputId": "035cf1e5-8792-4631-b1ae-bc8d84164e45",
        "colab": {
          "base_uri": "https://localhost:8080/",
          "height": 201
        }
      },
      "source": [
        "# using mlp of previous cell with kfold...\n",
        "kfold = KFold(n_splits=5, shuffle=True, random_state=1)\n",
        "mlp = MLPRegressor(hidden_layer_sizes=(50, 50),\n",
        "                                 learning_rate_init=0.01,\n",
        "                                 early_stopping=True)\n",
        "\n",
        "for train_index, test_index in kfold.split(X):\n",
        "  print(\"TRAIN:\", train_index, \"TEST:\", test_index)\n",
        "  X_train, X_test = X.iloc[train_index], X.iloc[test_index]\n",
        "  Y_train, Y_test = Y.iloc[train_index], Y.iloc[test_index]\n",
        "  mlp.fit(X_train, Y_train)\n",
        "  y_pred = est.predict(X_test)\n",
        "  print(\"Loss: \", est.loss_, \"mae: \", mean_absolute_error(Y_test, y_pred), \"R^2 Score: \", mlp.score(X_test, Y_test))"
      ],
      "execution_count": 0,
      "outputs": [
        {
          "output_type": "stream",
          "text": [
            "TRAIN: [     0      1      2 ... 616653 616654 616655] TEST: [     9     13     14 ... 616646 616647 616648]\n",
            "Loss:  3.8081086429581457 mae:  1.6207919270362987\n",
            "TRAIN: [     0      1      2 ... 616653 616654 616655] TEST: [     3      4      7 ... 616641 616645 616649]\n",
            "Loss:  3.8081086429581457 mae:  1.6135162526339182\n",
            "TRAIN: [     3      4      5 ... 616651 616652 616653] TEST: [     0      1      2 ... 616644 616654 616655]\n",
            "Loss:  3.8081086429581457 mae:  1.616708749919063\n",
            "TRAIN: [     0      1      2 ... 616653 616654 616655] TEST: [    10     21     22 ... 616632 616636 616640]\n",
            "Loss:  3.8081086429581457 mae:  1.616669574642382\n",
            "TRAIN: [     0      1      2 ... 616649 616654 616655] TEST: [     5     12     16 ... 616651 616652 616653]\n",
            "Loss:  3.8081086429581457 mae:  1.6191869177177134\n"
          ],
          "name": "stdout"
        }
      ]
    },
    {
      "cell_type": "code",
      "metadata": {
        "id": "En3J7aGoGNwD",
        "colab_type": "code",
        "outputId": "042d593a-2225-4805-e8f8-04fb055957b8",
        "colab": {
          "base_uri": "https://localhost:8080/",
          "height": 92
        }
      },
      "source": [
        "# try some other algorithm\n",
        "regr = LinearSVR(random_state=1, tol=1e-5)\n",
        "regr.fit(X_train, Y_train)\n",
        "y_pred = regr.predict(X_test)\n",
        "print(\"R^2 Score: \", regr.score(X_test, Y_test), 'mae: ', mean_absolute_error(Y_test, y_pred))"
      ],
      "execution_count": 0,
      "outputs": [
        {
          "output_type": "stream",
          "text": [
            "R^2 Score:  0.25534979332694663 mae:  2.2046485686181496\n"
          ],
          "name": "stdout"
        },
        {
          "output_type": "stream",
          "text": [
            "/usr/local/lib/python3.6/dist-packages/sklearn/svm/_base.py:947: ConvergenceWarning: Liblinear failed to converge, increase the number of iterations.\n",
            "  \"the number of iterations.\", ConvergenceWarning)\n"
          ],
          "name": "stderr"
        }
      ]
    },
    {
      "cell_type": "code",
      "metadata": {
        "id": "pwkiUQ9aNHtI",
        "colab_type": "code",
        "colab": {}
      },
      "source": [
        "# couldn't run this algorithm due to memory shortage!!!\n",
        "clf = linear_model.ARDRegression()\n",
        "clf.fit(X_train, Y_train)\n",
        "y_pred = clf.predict(X_test)\n",
        "print(\"R^2 Score: \", regr.score(X_test, Y_test), 'mae: ', mean_absolute_error(Y_test, y_pred))"
      ],
      "execution_count": 0,
      "outputs": []
    },
    {
      "cell_type": "code",
      "metadata": {
        "id": "l3iFlXmINzPD",
        "colab_type": "code",
        "colab": {}
      },
      "source": [
        "poly_feature = preprocessing.PolynomialFeatures(degree=3, include_bias=False)\n",
        "X_poly_tr = poly_feature.fit_transform(X_train)\n",
        "X_poly_te = poly_feature.fit_transform(X_test)"
      ],
      "execution_count": 0,
      "outputs": []
    },
    {
      "cell_type": "code",
      "metadata": {
        "id": "Iq7a3PUlJgSa",
        "colab_type": "code",
        "outputId": "0838d3ea-e474-433e-b6cb-be82a76b8872",
        "colab": {
          "base_uri": "https://localhost:8080/",
          "height": 92
        }
      },
      "source": [
        "# didn't help much.... |:\n",
        "regr = LinearSVR(random_state=1, tol=1e-5)\n",
        "regr.fit(X_poly_tr, Y_train)\n",
        "y_pred = regr.predict(X_poly_te)\n",
        "print(\"R^2 Score: \", regr.score(X_poly_te, Y_test), 'mae: ', mean_absolute_error(Y_test, y_pred))"
      ],
      "execution_count": 0,
      "outputs": [
        {
          "output_type": "stream",
          "text": [
            "/usr/local/lib/python3.6/dist-packages/sklearn/svm/_base.py:947: ConvergenceWarning: Liblinear failed to converge, increase the number of iterations.\n",
            "  \"the number of iterations.\", ConvergenceWarning)\n"
          ],
          "name": "stderr"
        },
        {
          "output_type": "stream",
          "text": [
            "R^2 Score:  -373.0416202193025 mae:  10.038409053388657\n"
          ],
          "name": "stdout"
        }
      ]
    },
    {
      "cell_type": "code",
      "metadata": {
        "id": "-8Kv5nnOQvwe",
        "colab_type": "code",
        "outputId": "b94e81de-547d-4bc9-bcc3-5f2e081e7a50",
        "colab": {
          "base_uri": "https://localhost:8080/",
          "height": 35
        }
      },
      "source": [
        "# Try previous neural network with polynomial features\n",
        "est = make_pipeline(preprocessing.QuantileTransformer(),\n",
        "                    MLPRegressor(hidden_layer_sizes=(50, 50),\n",
        "                                 learning_rate_init=0.01,\n",
        "                                 early_stopping=True))\n",
        "est.fit(X_poly_tr, Y_train)\n",
        "est.score(X_poly_te, Y_test)"
      ],
      "execution_count": 0,
      "outputs": [
        {
          "output_type": "execute_result",
          "data": {
            "text/plain": [
              "0.6893268843761424"
            ]
          },
          "metadata": {
            "tags": []
          },
          "execution_count": 34
        }
      ]
    },
    {
      "cell_type": "code",
      "metadata": {
        "id": "L9ZQjxU4T_2Q",
        "colab_type": "code",
        "outputId": "ae16d87c-3402-4785-bb8f-22fbf6e93352",
        "colab": {
          "base_uri": "https://localhost:8080/",
          "height": 35
        }
      },
      "source": [
        "# Linear Regression with polynomial features\n",
        "lin_reg = LinearRegression().fit(X_poly_tr, Y_train)\n",
        "lin_reg.score(X_poly_tr, Y_train)"
      ],
      "execution_count": 0,
      "outputs": [
        {
          "output_type": "execute_result",
          "data": {
            "text/plain": [
              "0.586440026539283"
            ]
          },
          "metadata": {
            "tags": []
          },
          "execution_count": 36
        }
      ]
    },
    {
      "cell_type": "code",
      "metadata": {
        "id": "pF6RtymthdvF",
        "colab_type": "code",
        "outputId": "5553fae0-9af5-446b-d605-1629b9711f04",
        "colab": {
          "base_uri": "https://localhost:8080/",
          "height": 1000
        }
      },
      "source": [
        "model = Sequential([\n",
        "    Dense(10, input_shape=(X_train.shape[1],)),\n",
        "    Activation('relu'),\n",
        "    Dense(50),\n",
        "    Activation('linear'),\n",
        "    Dense(1),\n",
        "])\n",
        "\n",
        "model.compile(loss='mean_squared_error', optimizer='adam', metrics=[metrics.mae])\n",
        "model.fit(X_train, Y_train, epochs=50)"
      ],
      "execution_count": 0,
      "outputs": [
        {
          "output_type": "stream",
          "text": [
            "Epoch 1/50\n",
            "431659/431659 [==============================] - 16s 38us/step - loss: 15.8997 - mean_absolute_error: 2.3586 - acc: 0.0244\n",
            "Epoch 2/50\n",
            "431659/431659 [==============================] - 16s 38us/step - loss: 14.9533 - mean_absolute_error: 2.2730 - acc: 0.0234\n",
            "Epoch 3/50\n",
            "431659/431659 [==============================] - 16s 38us/step - loss: 14.7219 - mean_absolute_error: 2.2453 - acc: 0.0225\n",
            "Epoch 4/50\n",
            "431659/431659 [==============================] - 17s 39us/step - loss: 14.4875 - mean_absolute_error: 2.2171 - acc: 0.0203\n",
            "Epoch 5/50\n",
            "431659/431659 [==============================] - 16s 37us/step - loss: 14.3789 - mean_absolute_error: 2.2023 - acc: 0.0205\n",
            "Epoch 6/50\n",
            "431659/431659 [==============================] - 16s 38us/step - loss: 14.3232 - mean_absolute_error: 2.1945 - acc: 0.0212\n",
            "Epoch 7/50\n",
            "431659/431659 [==============================] - 16s 36us/step - loss: 14.2884 - mean_absolute_error: 2.1914 - acc: 0.0218\n",
            "Epoch 8/50\n",
            "431659/431659 [==============================] - 16s 36us/step - loss: 14.2579 - mean_absolute_error: 2.1886 - acc: 0.0221\n",
            "Epoch 9/50\n",
            "431659/431659 [==============================] - 16s 36us/step - loss: 14.2474 - mean_absolute_error: 2.1859 - acc: 0.0224\n",
            "Epoch 10/50\n",
            "431659/431659 [==============================] - 16s 36us/step - loss: 14.2261 - mean_absolute_error: 2.1856 - acc: 0.0224\n",
            "Epoch 11/50\n",
            "431659/431659 [==============================] - 16s 36us/step - loss: 14.2154 - mean_absolute_error: 2.1844 - acc: 0.0226\n",
            "Epoch 12/50\n",
            "431659/431659 [==============================] - 16s 36us/step - loss: 14.2035 - mean_absolute_error: 2.1824 - acc: 0.0226\n",
            "Epoch 13/50\n",
            "431659/431659 [==============================] - 16s 36us/step - loss: 14.1937 - mean_absolute_error: 2.1821 - acc: 0.0225\n",
            "Epoch 14/50\n",
            "431659/431659 [==============================] - 16s 37us/step - loss: 14.1790 - mean_absolute_error: 2.1806 - acc: 0.0228\n",
            "Epoch 15/50\n",
            "431659/431659 [==============================] - 16s 37us/step - loss: 14.1722 - mean_absolute_error: 2.1802 - acc: 0.0226\n",
            "Epoch 16/50\n",
            "431659/431659 [==============================] - 16s 36us/step - loss: 14.1582 - mean_absolute_error: 2.1797 - acc: 0.0228\n",
            "Epoch 17/50\n",
            "431659/431659 [==============================] - 16s 36us/step - loss: 14.1493 - mean_absolute_error: 2.1778 - acc: 0.0230\n",
            "Epoch 18/50\n",
            "431659/431659 [==============================] - 16s 36us/step - loss: 14.1449 - mean_absolute_error: 2.1771 - acc: 0.0228\n",
            "Epoch 19/50\n",
            "431659/431659 [==============================] - 16s 36us/step - loss: 14.1234 - mean_absolute_error: 2.1754 - acc: 0.0232\n",
            "Epoch 20/50\n",
            "431659/431659 [==============================] - 16s 36us/step - loss: 14.1078 - mean_absolute_error: 2.1730 - acc: 0.0234\n",
            "Epoch 21/50\n",
            "431659/431659 [==============================] - 16s 36us/step - loss: 14.1061 - mean_absolute_error: 2.1725 - acc: 0.0233\n",
            "Epoch 22/50\n",
            "431659/431659 [==============================] - 16s 36us/step - loss: 14.0998 - mean_absolute_error: 2.1722 - acc: 0.0231\n",
            "Epoch 23/50\n",
            "431659/431659 [==============================] - 16s 36us/step - loss: 14.0896 - mean_absolute_error: 2.1713 - acc: 0.0229\n",
            "Epoch 24/50\n",
            "431659/431659 [==============================] - 16s 36us/step - loss: 14.0744 - mean_absolute_error: 2.1702 - acc: 0.0231\n",
            "Epoch 25/50\n",
            "431659/431659 [==============================] - 16s 36us/step - loss: 14.0701 - mean_absolute_error: 2.1704 - acc: 0.0231\n",
            "Epoch 26/50\n",
            "431659/431659 [==============================] - 16s 38us/step - loss: 14.0687 - mean_absolute_error: 2.1697 - acc: 0.0232\n",
            "Epoch 27/50\n",
            "431659/431659 [==============================] - 16s 36us/step - loss: 14.0535 - mean_absolute_error: 2.1672 - acc: 0.0233\n",
            "Epoch 28/50\n",
            "431659/431659 [==============================] - 16s 36us/step - loss: 14.0507 - mean_absolute_error: 2.1673 - acc: 0.0233\n",
            "Epoch 29/50\n",
            "431659/431659 [==============================] - 16s 36us/step - loss: 14.0374 - mean_absolute_error: 2.1669 - acc: 0.0233\n",
            "Epoch 30/50\n",
            "431659/431659 [==============================] - 16s 36us/step - loss: 14.0377 - mean_absolute_error: 2.1674 - acc: 0.0231\n",
            "Epoch 31/50\n",
            "431659/431659 [==============================] - 16s 36us/step - loss: 14.0327 - mean_absolute_error: 2.1665 - acc: 0.0238\n",
            "Epoch 32/50\n",
            "431659/431659 [==============================] - 16s 36us/step - loss: 14.0199 - mean_absolute_error: 2.1656 - acc: 0.0233\n",
            "Epoch 33/50\n",
            "431659/431659 [==============================] - 15s 36us/step - loss: 14.0162 - mean_absolute_error: 2.1638 - acc: 0.0237\n",
            "Epoch 34/50\n",
            "431659/431659 [==============================] - 16s 37us/step - loss: 14.0028 - mean_absolute_error: 2.1628 - acc: 0.0233\n",
            "Epoch 35/50\n",
            "431659/431659 [==============================] - 16s 36us/step - loss: 13.9897 - mean_absolute_error: 2.1620 - acc: 0.0234\n",
            "Epoch 36/50\n",
            "431659/431659 [==============================] - 16s 36us/step - loss: 13.9720 - mean_absolute_error: 2.1609 - acc: 0.0232\n",
            "Epoch 37/50\n",
            "431659/431659 [==============================] - 15s 36us/step - loss: 13.9559 - mean_absolute_error: 2.1598 - acc: 0.0234\n",
            "Epoch 38/50\n",
            "431659/431659 [==============================] - 16s 37us/step - loss: 13.9461 - mean_absolute_error: 2.1588 - acc: 0.0230\n",
            "Epoch 39/50\n",
            "431659/431659 [==============================] - 16s 36us/step - loss: 13.9530 - mean_absolute_error: 2.1593 - acc: 0.0233\n",
            "Epoch 40/50\n",
            "431659/431659 [==============================] - 16s 36us/step - loss: 13.9403 - mean_absolute_error: 2.1592 - acc: 0.0232\n",
            "Epoch 41/50\n",
            "431659/431659 [==============================] - 16s 36us/step - loss: 13.9398 - mean_absolute_error: 2.1596 - acc: 0.0232\n",
            "Epoch 42/50\n",
            "431659/431659 [==============================] - 16s 36us/step - loss: 13.9370 - mean_absolute_error: 2.1590 - acc: 0.0228\n",
            "Epoch 43/50\n",
            "431659/431659 [==============================] - 16s 36us/step - loss: 13.9285 - mean_absolute_error: 2.1597 - acc: 0.0228\n",
            "Epoch 44/50\n",
            "431659/431659 [==============================] - 15s 36us/step - loss: 13.9305 - mean_absolute_error: 2.1585 - acc: 0.0231\n",
            "Epoch 45/50\n",
            "431659/431659 [==============================] - 15s 36us/step - loss: 13.9236 - mean_absolute_error: 2.1580 - acc: 0.0230\n",
            "Epoch 46/50\n",
            "431659/431659 [==============================] - 16s 38us/step - loss: 13.9143 - mean_absolute_error: 2.1570 - acc: 0.0231\n",
            "Epoch 47/50\n",
            "431659/431659 [==============================] - 15s 36us/step - loss: 13.9085 - mean_absolute_error: 2.1572 - acc: 0.0229\n",
            "Epoch 48/50\n",
            "431659/431659 [==============================] - 16s 36us/step - loss: 13.9047 - mean_absolute_error: 2.1577 - acc: 0.0231\n",
            "Epoch 49/50\n",
            "431659/431659 [==============================] - 15s 36us/step - loss: 13.9091 - mean_absolute_error: 2.1576 - acc: 0.0228\n",
            "Epoch 50/50\n",
            "431659/431659 [==============================] - 16s 37us/step - loss: 13.9047 - mean_absolute_error: 2.1566 - acc: 0.0230\n"
          ],
          "name": "stdout"
        },
        {
          "output_type": "execute_result",
          "data": {
            "text/plain": [
              "<keras.callbacks.History at 0x7f7b659a6f98>"
            ]
          },
          "metadata": {
            "tags": []
          },
          "execution_count": 33
        }
      ]
    },
    {
      "cell_type": "code",
      "metadata": {
        "id": "QGI9hPF_mnuT",
        "colab_type": "code",
        "outputId": "b1aabcde-1c16-4556-fd97-7087978753c7",
        "colab": {
          "base_uri": "https://localhost:8080/",
          "height": 72
        }
      },
      "source": [
        "score = model.evaluate(X_test, Y_test)\n",
        "print('Test score:', score)\n",
        "print('Test accuracy:', acc)"
      ],
      "execution_count": 0,
      "outputs": [
        {
          "output_type": "stream",
          "text": [
            "184997/184997 [==============================] - 3s 18us/step\n",
            "Test score: [13.896785885906072, 2.0978399659326676, 0.034400557846884006]\n",
            "Test accuracy: 2.1366952238317727\n"
          ],
          "name": "stdout"
        }
      ]
    },
    {
      "cell_type": "code",
      "metadata": {
        "id": "FEpQQFh2PQqI",
        "colab_type": "code",
        "outputId": "fc73a123-1367-4f8e-f5ce-4045bce01273",
        "colab": {
          "base_uri": "https://localhost:8080/",
          "height": 1000
        }
      },
      "source": [
        "# Using different activation function... we get better result!\n",
        "model = Sequential([\n",
        "    Dense(10, input_shape=(X_train.shape[1],)),\n",
        "    Activation('relu'),\n",
        "    Dense(50),\n",
        "    Activation('relu'),\n",
        "    Dense(1),\n",
        "])\n",
        "\n",
        "model.compile(loss='mean_squared_error', optimizer='adam', metrics=[metrics.mae])\n",
        "model.fit(X_train, Y_train, epochs=50)"
      ],
      "execution_count": 0,
      "outputs": [
        {
          "output_type": "stream",
          "text": [
            "WARNING:tensorflow:From /usr/local/lib/python3.6/dist-packages/keras/backend/tensorflow_backend.py:66: The name tf.get_default_graph is deprecated. Please use tf.compat.v1.get_default_graph instead.\n",
            "\n",
            "WARNING:tensorflow:From /usr/local/lib/python3.6/dist-packages/keras/backend/tensorflow_backend.py:541: The name tf.placeholder is deprecated. Please use tf.compat.v1.placeholder instead.\n",
            "\n",
            "WARNING:tensorflow:From /usr/local/lib/python3.6/dist-packages/keras/backend/tensorflow_backend.py:4432: The name tf.random_uniform is deprecated. Please use tf.random.uniform instead.\n",
            "\n",
            "WARNING:tensorflow:From /usr/local/lib/python3.6/dist-packages/keras/optimizers.py:793: The name tf.train.Optimizer is deprecated. Please use tf.compat.v1.train.Optimizer instead.\n",
            "\n",
            "WARNING:tensorflow:From /usr/local/lib/python3.6/dist-packages/keras/backend/tensorflow_backend.py:1033: The name tf.assign_add is deprecated. Please use tf.compat.v1.assign_add instead.\n",
            "\n",
            "WARNING:tensorflow:From /usr/local/lib/python3.6/dist-packages/keras/backend/tensorflow_backend.py:1020: The name tf.assign is deprecated. Please use tf.compat.v1.assign instead.\n",
            "\n",
            "WARNING:tensorflow:From /usr/local/lib/python3.6/dist-packages/keras/backend/tensorflow_backend.py:3005: The name tf.Session is deprecated. Please use tf.compat.v1.Session instead.\n",
            "\n",
            "Epoch 1/50\n",
            "WARNING:tensorflow:From /usr/local/lib/python3.6/dist-packages/keras/backend/tensorflow_backend.py:190: The name tf.get_default_session is deprecated. Please use tf.compat.v1.get_default_session instead.\n",
            "\n",
            "WARNING:tensorflow:From /usr/local/lib/python3.6/dist-packages/keras/backend/tensorflow_backend.py:197: The name tf.ConfigProto is deprecated. Please use tf.compat.v1.ConfigProto instead.\n",
            "\n",
            "WARNING:tensorflow:From /usr/local/lib/python3.6/dist-packages/keras/backend/tensorflow_backend.py:207: The name tf.global_variables is deprecated. Please use tf.compat.v1.global_variables instead.\n",
            "\n",
            "WARNING:tensorflow:From /usr/local/lib/python3.6/dist-packages/keras/backend/tensorflow_backend.py:216: The name tf.is_variable_initialized is deprecated. Please use tf.compat.v1.is_variable_initialized instead.\n",
            "\n",
            "WARNING:tensorflow:From /usr/local/lib/python3.6/dist-packages/keras/backend/tensorflow_backend.py:223: The name tf.variables_initializer is deprecated. Please use tf.compat.v1.variables_initializer instead.\n",
            "\n",
            "431659/431659 [==============================] - 15s 35us/step - loss: 15.3114 - mean_absolute_error: 2.3061\n",
            "Epoch 2/50\n",
            "431659/431659 [==============================] - 14s 33us/step - loss: 12.7252 - mean_absolute_error: 2.1310\n",
            "Epoch 3/50\n",
            "431659/431659 [==============================] - 14s 33us/step - loss: 10.4412 - mean_absolute_error: 1.9655\n",
            "Epoch 4/50\n",
            "431659/431659 [==============================] - 15s 34us/step - loss: 9.0790 - mean_absolute_error: 1.8324\n",
            "Epoch 5/50\n",
            "431659/431659 [==============================] - 14s 33us/step - loss: 8.7592 - mean_absolute_error: 1.7916\n",
            "Epoch 6/50\n",
            "431659/431659 [==============================] - 14s 33us/step - loss: 8.5745 - mean_absolute_error: 1.7644\n",
            "Epoch 7/50\n",
            "431659/431659 [==============================] - 14s 33us/step - loss: 8.4732 - mean_absolute_error: 1.7461\n",
            "Epoch 8/50\n",
            "431659/431659 [==============================] - 14s 33us/step - loss: 8.3552 - mean_absolute_error: 1.7297\n",
            "Epoch 9/50\n",
            "431659/431659 [==============================] - 14s 33us/step - loss: 8.2729 - mean_absolute_error: 1.7186\n",
            "Epoch 10/50\n",
            "431659/431659 [==============================] - 14s 33us/step - loss: 8.1869 - mean_absolute_error: 1.7094\n",
            "Epoch 11/50\n",
            "431659/431659 [==============================] - 14s 33us/step - loss: 8.1286 - mean_absolute_error: 1.7040\n",
            "Epoch 12/50\n",
            "431659/431659 [==============================] - 14s 33us/step - loss: 8.1048 - mean_absolute_error: 1.7013\n",
            "Epoch 13/50\n",
            "431659/431659 [==============================] - 14s 33us/step - loss: 8.0531 - mean_absolute_error: 1.6965\n",
            "Epoch 14/50\n",
            "431659/431659 [==============================] - 14s 33us/step - loss: 8.0109 - mean_absolute_error: 1.6916\n",
            "Epoch 15/50\n",
            "431659/431659 [==============================] - 15s 34us/step - loss: 7.9881 - mean_absolute_error: 1.6877\n",
            "Epoch 16/50\n",
            "431659/431659 [==============================] - 14s 33us/step - loss: 7.9648 - mean_absolute_error: 1.6862\n",
            "Epoch 17/50\n",
            "431659/431659 [==============================] - 14s 33us/step - loss: 7.9429 - mean_absolute_error: 1.6863\n",
            "Epoch 18/50\n",
            "431659/431659 [==============================] - 14s 34us/step - loss: 7.9118 - mean_absolute_error: 1.6823\n",
            "Epoch 19/50\n",
            "431659/431659 [==============================] - 15s 34us/step - loss: 7.9111 - mean_absolute_error: 1.6819\n",
            "Epoch 20/50\n",
            "431659/431659 [==============================] - 14s 33us/step - loss: 7.8814 - mean_absolute_error: 1.6779\n",
            "Epoch 21/50\n",
            "431659/431659 [==============================] - 14s 33us/step - loss: 7.8814 - mean_absolute_error: 1.6771\n",
            "Epoch 22/50\n",
            "431659/431659 [==============================] - 14s 33us/step - loss: 7.8582 - mean_absolute_error: 1.6754\n",
            "Epoch 23/50\n",
            "431659/431659 [==============================] - 14s 33us/step - loss: 7.8646 - mean_absolute_error: 1.6780\n",
            "Epoch 24/50\n",
            "431659/431659 [==============================] - 14s 33us/step - loss: 7.8411 - mean_absolute_error: 1.6743\n",
            "Epoch 25/50\n",
            "431659/431659 [==============================] - 14s 33us/step - loss: 7.8302 - mean_absolute_error: 1.6741\n",
            "Epoch 26/50\n",
            "431659/431659 [==============================] - 14s 33us/step - loss: 7.8402 - mean_absolute_error: 1.6758\n",
            "Epoch 27/50\n",
            "431659/431659 [==============================] - 14s 33us/step - loss: 7.8120 - mean_absolute_error: 1.6728\n",
            "Epoch 28/50\n",
            "431659/431659 [==============================] - 14s 33us/step - loss: 7.7998 - mean_absolute_error: 1.6714\n",
            "Epoch 29/50\n",
            "431659/431659 [==============================] - 14s 33us/step - loss: 7.7917 - mean_absolute_error: 1.6724\n",
            "Epoch 30/50\n",
            "431659/431659 [==============================] - 14s 33us/step - loss: 7.7828 - mean_absolute_error: 1.6708\n",
            "Epoch 31/50\n",
            "431659/431659 [==============================] - 14s 33us/step - loss: 7.7668 - mean_absolute_error: 1.6690\n",
            "Epoch 32/50\n",
            "431659/431659 [==============================] - 14s 33us/step - loss: 7.7436 - mean_absolute_error: 1.6655\n",
            "Epoch 33/50\n",
            "431659/431659 [==============================] - 14s 33us/step - loss: 7.7285 - mean_absolute_error: 1.6634\n",
            "Epoch 34/50\n",
            "431659/431659 [==============================] - 14s 33us/step - loss: 7.7409 - mean_absolute_error: 1.6652\n",
            "Epoch 35/50\n",
            "431659/431659 [==============================] - 14s 33us/step - loss: 7.7080 - mean_absolute_error: 1.6609\n",
            "Epoch 36/50\n",
            "431659/431659 [==============================] - 14s 33us/step - loss: 7.7035 - mean_absolute_error: 1.6606\n",
            "Epoch 37/50\n",
            "431659/431659 [==============================] - 14s 33us/step - loss: 7.7022 - mean_absolute_error: 1.6605\n",
            "Epoch 38/50\n",
            "431659/431659 [==============================] - 14s 33us/step - loss: 7.6776 - mean_absolute_error: 1.6557\n",
            "Epoch 39/50\n",
            "431659/431659 [==============================] - 14s 33us/step - loss: 7.6756 - mean_absolute_error: 1.6569\n",
            "Epoch 40/50\n",
            "431659/431659 [==============================] - 15s 34us/step - loss: 7.6711 - mean_absolute_error: 1.6556\n",
            "Epoch 41/50\n",
            "431659/431659 [==============================] - 14s 33us/step - loss: 7.6647 - mean_absolute_error: 1.6556\n",
            "Epoch 42/50\n",
            "431659/431659 [==============================] - 14s 33us/step - loss: 7.6609 - mean_absolute_error: 1.6544\n",
            "Epoch 43/50\n",
            "431659/431659 [==============================] - 14s 33us/step - loss: 7.6460 - mean_absolute_error: 1.6525\n",
            "Epoch 44/50\n",
            "431659/431659 [==============================] - 14s 33us/step - loss: 7.6415 - mean_absolute_error: 1.6529\n",
            "Epoch 45/50\n",
            "431659/431659 [==============================] - 14s 33us/step - loss: 7.6321 - mean_absolute_error: 1.6508\n",
            "Epoch 46/50\n",
            "431659/431659 [==============================] - 14s 33us/step - loss: 7.6244 - mean_absolute_error: 1.6497\n",
            "Epoch 47/50\n",
            "431659/431659 [==============================] - 14s 33us/step - loss: 7.6277 - mean_absolute_error: 1.6505\n",
            "Epoch 48/50\n",
            "431659/431659 [==============================] - 14s 33us/step - loss: 7.6175 - mean_absolute_error: 1.6487\n",
            "Epoch 49/50\n",
            "431659/431659 [==============================] - 14s 33us/step - loss: 7.5985 - mean_absolute_error: 1.6469\n",
            "Epoch 50/50\n",
            "431659/431659 [==============================] - 14s 33us/step - loss: 7.6068 - mean_absolute_error: 1.6471\n"
          ],
          "name": "stdout"
        },
        {
          "output_type": "execute_result",
          "data": {
            "text/plain": [
              "<keras.callbacks.History at 0x7f2ad31c9710>"
            ]
          },
          "metadata": {
            "tags": []
          },
          "execution_count": 8
        }
      ]
    },
    {
      "cell_type": "code",
      "metadata": {
        "id": "gL4rEKOgMZtj",
        "colab_type": "code",
        "colab": {}
      },
      "source": [
        "# cross validation\n",
        "def nn():\n",
        "  model = Sequential([\n",
        "      Dense(10, input_shape=(X_train.shape[1],)),\n",
        "      Activation('relu'),\n",
        "      Dense(50),\n",
        "      Activation('relu'),\n",
        "      Dense(1),\n",
        "  ])\n",
        "\n",
        "  model.compile(loss='mean_squared_error', optimizer='adam', metrics=[metrics.mae])\n",
        "  return model\n",
        "\n",
        "estimators = []\n",
        "estimators.append(('mlp', KerasRegressor(build_fn=nn, epochs=10, batch_size=1000, verbose=0)))\n",
        "pipeline = Pipeline(estimators)\n",
        "kfold = KFold(n_splits=10)\n",
        "results = cross_val_score(pipeline, X, Y, cv=kfold)\n",
        "print(\"Wider: %.2f (%.2f) MSE\" % (results.mean(), results.std()))"
      ],
      "execution_count": 0,
      "outputs": []
    },
    {
      "cell_type": "code",
      "metadata": {
        "id": "HnIBEEZYhpqT",
        "colab_type": "code",
        "colab": {}
      },
      "source": [
        "# readme                              x\n",
        "# Nan value\n",
        "# Feature engineering\n",
        "# try another algorithm               x\n",
        "# cross validation                    x\n",
        "# plot differnet hyperparameters      "
      ],
      "execution_count": 0,
      "outputs": []
    }
  ]
}